{
 "cells": [
  {
   "cell_type": "markdown",
   "id": "32c3368f",
   "metadata": {},
   "source": [
    "# Class Pratical Assigment\n",
    "#### 28.03.2022\n",
    "\n",
    "### ML Algorithms used:\n",
    " - Linear regression;\n",
    " - Decision Trees;\n",
    "\n",
    "\n",
    "### References: \n",
    " - https://github.com/TheAIFramework/PracticalMachineLearning/blob/Trees/4%20-%20Ensemble%20Methods.ipynb\n",
    " - https://github.com/TheAIFramework/PracticalMachineLearning/blob/Trees/3%20-%20Decision%20Trees.ipynb\n",
    " - https://github.com/TheAIFramework/PracticalMachineLearning/tree/gradient"
   ]
  },
  {
   "cell_type": "code",
   "execution_count": 261,
   "id": "e57d3633",
   "metadata": {},
   "outputs": [],
   "source": [
    "import pandas as pd\n",
    "import seaborn as sns\n",
    "import matplotlib.pyplot as plt\n",
    "\n",
    "from sklearn.model_selection import train_test_split"
   ]
  },
  {
   "cell_type": "code",
   "execution_count": 262,
   "id": "c96bfa8f",
   "metadata": {},
   "outputs": [],
   "source": [
    "df = pd.read_csv('Housing_Data.csv')"
   ]
  },
  {
   "cell_type": "code",
   "execution_count": 263,
   "id": "01b272c9",
   "metadata": {},
   "outputs": [
    {
     "data": {
      "text/html": [
       "<div>\n",
       "<style scoped>\n",
       "    .dataframe tbody tr th:only-of-type {\n",
       "        vertical-align: middle;\n",
       "    }\n",
       "\n",
       "    .dataframe tbody tr th {\n",
       "        vertical-align: top;\n",
       "    }\n",
       "\n",
       "    .dataframe thead th {\n",
       "        text-align: right;\n",
       "    }\n",
       "</style>\n",
       "<table border=\"1\" class=\"dataframe\">\n",
       "  <thead>\n",
       "    <tr style=\"text-align: right;\">\n",
       "      <th></th>\n",
       "      <th>Avg. Area Income</th>\n",
       "      <th>Avg. Area House Age</th>\n",
       "      <th>Avg. Area Number of Rooms</th>\n",
       "      <th>Avg. Area Number of Bedrooms</th>\n",
       "      <th>Area Population</th>\n",
       "      <th>Price</th>\n",
       "      <th>Address</th>\n",
       "    </tr>\n",
       "  </thead>\n",
       "  <tbody>\n",
       "    <tr>\n",
       "      <th>0</th>\n",
       "      <td>79545.458574</td>\n",
       "      <td>5.682861</td>\n",
       "      <td>7.009188</td>\n",
       "      <td>4.09</td>\n",
       "      <td>23086.800503</td>\n",
       "      <td>1.059034e+06</td>\n",
       "      <td>208 Michael Ferry Apt. 674\\nLaurabury, NE 3701...</td>\n",
       "    </tr>\n",
       "    <tr>\n",
       "      <th>1</th>\n",
       "      <td>79248.642455</td>\n",
       "      <td>6.002900</td>\n",
       "      <td>6.730821</td>\n",
       "      <td>3.09</td>\n",
       "      <td>40173.072174</td>\n",
       "      <td>1.505891e+06</td>\n",
       "      <td>188 Johnson Views Suite 079\\nLake Kathleen, CA...</td>\n",
       "    </tr>\n",
       "    <tr>\n",
       "      <th>2</th>\n",
       "      <td>61287.067179</td>\n",
       "      <td>5.865890</td>\n",
       "      <td>8.512727</td>\n",
       "      <td>5.13</td>\n",
       "      <td>36882.159400</td>\n",
       "      <td>1.058988e+06</td>\n",
       "      <td>9127 Elizabeth Stravenue\\nDanieltown, WI 06482...</td>\n",
       "    </tr>\n",
       "    <tr>\n",
       "      <th>3</th>\n",
       "      <td>63345.240046</td>\n",
       "      <td>7.188236</td>\n",
       "      <td>5.586729</td>\n",
       "      <td>3.26</td>\n",
       "      <td>34310.242831</td>\n",
       "      <td>1.260617e+06</td>\n",
       "      <td>USS Barnett\\nFPO AP 44820</td>\n",
       "    </tr>\n",
       "    <tr>\n",
       "      <th>4</th>\n",
       "      <td>59982.197226</td>\n",
       "      <td>5.040555</td>\n",
       "      <td>7.839388</td>\n",
       "      <td>4.23</td>\n",
       "      <td>26354.109472</td>\n",
       "      <td>6.309435e+05</td>\n",
       "      <td>USNS Raymond\\nFPO AE 09386</td>\n",
       "    </tr>\n",
       "  </tbody>\n",
       "</table>\n",
       "</div>"
      ],
      "text/plain": [
       "   Avg. Area Income  Avg. Area House Age  Avg. Area Number of Rooms  \\\n",
       "0      79545.458574             5.682861                   7.009188   \n",
       "1      79248.642455             6.002900                   6.730821   \n",
       "2      61287.067179             5.865890                   8.512727   \n",
       "3      63345.240046             7.188236                   5.586729   \n",
       "4      59982.197226             5.040555                   7.839388   \n",
       "\n",
       "   Avg. Area Number of Bedrooms  Area Population         Price  \\\n",
       "0                          4.09     23086.800503  1.059034e+06   \n",
       "1                          3.09     40173.072174  1.505891e+06   \n",
       "2                          5.13     36882.159400  1.058988e+06   \n",
       "3                          3.26     34310.242831  1.260617e+06   \n",
       "4                          4.23     26354.109472  6.309435e+05   \n",
       "\n",
       "                                             Address  \n",
       "0  208 Michael Ferry Apt. 674\\nLaurabury, NE 3701...  \n",
       "1  188 Johnson Views Suite 079\\nLake Kathleen, CA...  \n",
       "2  9127 Elizabeth Stravenue\\nDanieltown, WI 06482...  \n",
       "3                          USS Barnett\\nFPO AP 44820  \n",
       "4                         USNS Raymond\\nFPO AE 09386  "
      ]
     },
     "execution_count": 263,
     "metadata": {},
     "output_type": "execute_result"
    }
   ],
   "source": [
    "df.head()"
   ]
  },
  {
   "cell_type": "code",
   "execution_count": 264,
   "id": "310d76d9",
   "metadata": {},
   "outputs": [
    {
     "data": {
      "text/plain": [
       "Index(['Avg. Area Income', 'Avg. Area House Age', 'Avg. Area Number of Rooms',\n",
       "       'Avg. Area Number of Bedrooms', 'Area Population', 'Price', 'Address'],\n",
       "      dtype='object')"
      ]
     },
     "execution_count": 264,
     "metadata": {},
     "output_type": "execute_result"
    }
   ],
   "source": [
    "df.columns"
   ]
  },
  {
   "cell_type": "code",
   "execution_count": 265,
   "id": "6d879560",
   "metadata": {},
   "outputs": [
    {
     "name": "stdout",
     "output_type": "stream",
     "text": [
      "<class 'pandas.core.frame.DataFrame'>\n",
      "RangeIndex: 5000 entries, 0 to 4999\n",
      "Data columns (total 7 columns):\n",
      " #   Column                        Non-Null Count  Dtype  \n",
      "---  ------                        --------------  -----  \n",
      " 0   Avg. Area Income              5000 non-null   float64\n",
      " 1   Avg. Area House Age           5000 non-null   float64\n",
      " 2   Avg. Area Number of Rooms     5000 non-null   float64\n",
      " 3   Avg. Area Number of Bedrooms  5000 non-null   float64\n",
      " 4   Area Population               5000 non-null   float64\n",
      " 5   Price                         5000 non-null   float64\n",
      " 6   Address                       5000 non-null   object \n",
      "dtypes: float64(6), object(1)\n",
      "memory usage: 273.6+ KB\n"
     ]
    }
   ],
   "source": [
    "df.info()"
   ]
  },
  {
   "cell_type": "markdown",
   "id": "37c95bd8",
   "metadata": {},
   "source": [
    "## Data Analysis and Cleaning"
   ]
  },
  {
   "cell_type": "code",
   "execution_count": 266,
   "id": "a3bc632e",
   "metadata": {},
   "outputs": [
    {
     "data": {
      "text/plain": [
       "Avg. Area Income                0\n",
       "Avg. Area House Age             0\n",
       "Avg. Area Number of Rooms       0\n",
       "Avg. Area Number of Bedrooms    0\n",
       "Area Population                 0\n",
       "Price                           0\n",
       "Address                         0\n",
       "dtype: int64"
      ]
     },
     "execution_count": 266,
     "metadata": {},
     "output_type": "execute_result"
    }
   ],
   "source": [
    "# Encontra valores nulos no dataset\n",
    "df.isna().sum()"
   ]
  },
  {
   "cell_type": "code",
   "execution_count": 267,
   "id": "0f13a182",
   "metadata": {
    "scrolled": true
   },
   "outputs": [
    {
     "name": "stdout",
     "output_type": "stream",
     "text": [
      "Nº linhas: 5000\n",
      "Nº colunas: 7\n"
     ]
    }
   ],
   "source": [
    "# Tamanho do dataset\n",
    "print('Nº linhas:', df.shape[0])\n",
    "print('Nº colunas:', df.shape[1])"
   ]
  },
  {
   "cell_type": "markdown",
   "id": "780d8a9b",
   "metadata": {},
   "source": [
    "'Address' column doesnt significantly add something to the dataset, thus is fully dropped"
   ]
  },
  {
   "cell_type": "code",
   "execution_count": 268,
   "id": "31ba814b",
   "metadata": {
    "scrolled": true
   },
   "outputs": [],
   "source": [
    "df = df.drop(['Address'], axis=1)"
   ]
  },
  {
   "cell_type": "code",
   "execution_count": 269,
   "id": "b834277d",
   "metadata": {},
   "outputs": [
    {
     "data": {
      "text/html": [
       "<div>\n",
       "<style scoped>\n",
       "    .dataframe tbody tr th:only-of-type {\n",
       "        vertical-align: middle;\n",
       "    }\n",
       "\n",
       "    .dataframe tbody tr th {\n",
       "        vertical-align: top;\n",
       "    }\n",
       "\n",
       "    .dataframe thead th {\n",
       "        text-align: right;\n",
       "    }\n",
       "</style>\n",
       "<table border=\"1\" class=\"dataframe\">\n",
       "  <thead>\n",
       "    <tr style=\"text-align: right;\">\n",
       "      <th></th>\n",
       "      <th>Avg. Area Income</th>\n",
       "      <th>Avg. Area House Age</th>\n",
       "      <th>Avg. Area Number of Rooms</th>\n",
       "      <th>Avg. Area Number of Bedrooms</th>\n",
       "      <th>Area Population</th>\n",
       "      <th>Price</th>\n",
       "    </tr>\n",
       "  </thead>\n",
       "  <tbody>\n",
       "    <tr>\n",
       "      <th>0</th>\n",
       "      <td>79545.458574</td>\n",
       "      <td>5.682861</td>\n",
       "      <td>7.009188</td>\n",
       "      <td>4.09</td>\n",
       "      <td>23086.800503</td>\n",
       "      <td>1.059034e+06</td>\n",
       "    </tr>\n",
       "    <tr>\n",
       "      <th>1</th>\n",
       "      <td>79248.642455</td>\n",
       "      <td>6.002900</td>\n",
       "      <td>6.730821</td>\n",
       "      <td>3.09</td>\n",
       "      <td>40173.072174</td>\n",
       "      <td>1.505891e+06</td>\n",
       "    </tr>\n",
       "    <tr>\n",
       "      <th>2</th>\n",
       "      <td>61287.067179</td>\n",
       "      <td>5.865890</td>\n",
       "      <td>8.512727</td>\n",
       "      <td>5.13</td>\n",
       "      <td>36882.159400</td>\n",
       "      <td>1.058988e+06</td>\n",
       "    </tr>\n",
       "    <tr>\n",
       "      <th>3</th>\n",
       "      <td>63345.240046</td>\n",
       "      <td>7.188236</td>\n",
       "      <td>5.586729</td>\n",
       "      <td>3.26</td>\n",
       "      <td>34310.242831</td>\n",
       "      <td>1.260617e+06</td>\n",
       "    </tr>\n",
       "    <tr>\n",
       "      <th>4</th>\n",
       "      <td>59982.197226</td>\n",
       "      <td>5.040555</td>\n",
       "      <td>7.839388</td>\n",
       "      <td>4.23</td>\n",
       "      <td>26354.109472</td>\n",
       "      <td>6.309435e+05</td>\n",
       "    </tr>\n",
       "    <tr>\n",
       "      <th>5</th>\n",
       "      <td>80175.754159</td>\n",
       "      <td>4.988408</td>\n",
       "      <td>6.104512</td>\n",
       "      <td>4.04</td>\n",
       "      <td>26748.428425</td>\n",
       "      <td>1.068138e+06</td>\n",
       "    </tr>\n",
       "    <tr>\n",
       "      <th>6</th>\n",
       "      <td>64698.463428</td>\n",
       "      <td>6.025336</td>\n",
       "      <td>8.147760</td>\n",
       "      <td>3.41</td>\n",
       "      <td>60828.249085</td>\n",
       "      <td>1.502056e+06</td>\n",
       "    </tr>\n",
       "    <tr>\n",
       "      <th>7</th>\n",
       "      <td>78394.339278</td>\n",
       "      <td>6.989780</td>\n",
       "      <td>6.620478</td>\n",
       "      <td>2.42</td>\n",
       "      <td>36516.358972</td>\n",
       "      <td>1.573937e+06</td>\n",
       "    </tr>\n",
       "    <tr>\n",
       "      <th>8</th>\n",
       "      <td>59927.660813</td>\n",
       "      <td>5.362126</td>\n",
       "      <td>6.393121</td>\n",
       "      <td>2.30</td>\n",
       "      <td>29387.396003</td>\n",
       "      <td>7.988695e+05</td>\n",
       "    </tr>\n",
       "    <tr>\n",
       "      <th>9</th>\n",
       "      <td>81885.927184</td>\n",
       "      <td>4.423672</td>\n",
       "      <td>8.167688</td>\n",
       "      <td>6.10</td>\n",
       "      <td>40149.965749</td>\n",
       "      <td>1.545155e+06</td>\n",
       "    </tr>\n",
       "  </tbody>\n",
       "</table>\n",
       "</div>"
      ],
      "text/plain": [
       "   Avg. Area Income  Avg. Area House Age  Avg. Area Number of Rooms  \\\n",
       "0      79545.458574             5.682861                   7.009188   \n",
       "1      79248.642455             6.002900                   6.730821   \n",
       "2      61287.067179             5.865890                   8.512727   \n",
       "3      63345.240046             7.188236                   5.586729   \n",
       "4      59982.197226             5.040555                   7.839388   \n",
       "5      80175.754159             4.988408                   6.104512   \n",
       "6      64698.463428             6.025336                   8.147760   \n",
       "7      78394.339278             6.989780                   6.620478   \n",
       "8      59927.660813             5.362126                   6.393121   \n",
       "9      81885.927184             4.423672                   8.167688   \n",
       "\n",
       "   Avg. Area Number of Bedrooms  Area Population         Price  \n",
       "0                          4.09     23086.800503  1.059034e+06  \n",
       "1                          3.09     40173.072174  1.505891e+06  \n",
       "2                          5.13     36882.159400  1.058988e+06  \n",
       "3                          3.26     34310.242831  1.260617e+06  \n",
       "4                          4.23     26354.109472  6.309435e+05  \n",
       "5                          4.04     26748.428425  1.068138e+06  \n",
       "6                          3.41     60828.249085  1.502056e+06  \n",
       "7                          2.42     36516.358972  1.573937e+06  \n",
       "8                          2.30     29387.396003  7.988695e+05  \n",
       "9                          6.10     40149.965749  1.545155e+06  "
      ]
     },
     "execution_count": 269,
     "metadata": {},
     "output_type": "execute_result"
    }
   ],
   "source": [
    "df.head(10)"
   ]
  },
  {
   "cell_type": "code",
   "execution_count": 270,
   "id": "3611e71d",
   "metadata": {},
   "outputs": [
    {
     "data": {
      "text/plain": [
       "Index(['Avg. Area Income', 'Avg. Area House Age', 'Avg. Area Number of Rooms',\n",
       "       'Avg. Area Number of Bedrooms', 'Area Population', 'Price'],\n",
       "      dtype='object')"
      ]
     },
     "execution_count": 270,
     "metadata": {},
     "output_type": "execute_result"
    }
   ],
   "source": [
    "df.columns"
   ]
  },
  {
   "cell_type": "code",
   "execution_count": 271,
   "id": "e3ac1c26",
   "metadata": {},
   "outputs": [
    {
     "data": {
      "text/html": [
       "<div>\n",
       "<style scoped>\n",
       "    .dataframe tbody tr th:only-of-type {\n",
       "        vertical-align: middle;\n",
       "    }\n",
       "\n",
       "    .dataframe tbody tr th {\n",
       "        vertical-align: top;\n",
       "    }\n",
       "\n",
       "    .dataframe thead th {\n",
       "        text-align: right;\n",
       "    }\n",
       "</style>\n",
       "<table border=\"1\" class=\"dataframe\">\n",
       "  <thead>\n",
       "    <tr style=\"text-align: right;\">\n",
       "      <th></th>\n",
       "      <th>Avg. Area Income</th>\n",
       "      <th>Avg. Area House Age</th>\n",
       "      <th>Avg. Area Number of Rooms</th>\n",
       "      <th>Avg. Area Number of Bedrooms</th>\n",
       "      <th>Area Population</th>\n",
       "      <th>Price</th>\n",
       "    </tr>\n",
       "  </thead>\n",
       "  <tbody>\n",
       "    <tr>\n",
       "      <th>count</th>\n",
       "      <td>5000.000000</td>\n",
       "      <td>5000.000000</td>\n",
       "      <td>5000.000000</td>\n",
       "      <td>5000.000000</td>\n",
       "      <td>5000.000000</td>\n",
       "      <td>5.000000e+03</td>\n",
       "    </tr>\n",
       "    <tr>\n",
       "      <th>mean</th>\n",
       "      <td>68583.108984</td>\n",
       "      <td>5.977222</td>\n",
       "      <td>6.987792</td>\n",
       "      <td>3.981330</td>\n",
       "      <td>36163.516039</td>\n",
       "      <td>1.232073e+06</td>\n",
       "    </tr>\n",
       "    <tr>\n",
       "      <th>std</th>\n",
       "      <td>10657.991214</td>\n",
       "      <td>0.991456</td>\n",
       "      <td>1.005833</td>\n",
       "      <td>1.234137</td>\n",
       "      <td>9925.650114</td>\n",
       "      <td>3.531176e+05</td>\n",
       "    </tr>\n",
       "    <tr>\n",
       "      <th>min</th>\n",
       "      <td>17796.631190</td>\n",
       "      <td>2.644304</td>\n",
       "      <td>3.236194</td>\n",
       "      <td>2.000000</td>\n",
       "      <td>172.610686</td>\n",
       "      <td>1.593866e+04</td>\n",
       "    </tr>\n",
       "    <tr>\n",
       "      <th>25%</th>\n",
       "      <td>61480.562388</td>\n",
       "      <td>5.322283</td>\n",
       "      <td>6.299250</td>\n",
       "      <td>3.140000</td>\n",
       "      <td>29403.928702</td>\n",
       "      <td>9.975771e+05</td>\n",
       "    </tr>\n",
       "    <tr>\n",
       "      <th>50%</th>\n",
       "      <td>68804.286404</td>\n",
       "      <td>5.970429</td>\n",
       "      <td>7.002902</td>\n",
       "      <td>4.050000</td>\n",
       "      <td>36199.406689</td>\n",
       "      <td>1.232669e+06</td>\n",
       "    </tr>\n",
       "    <tr>\n",
       "      <th>75%</th>\n",
       "      <td>75783.338666</td>\n",
       "      <td>6.650808</td>\n",
       "      <td>7.665871</td>\n",
       "      <td>4.490000</td>\n",
       "      <td>42861.290769</td>\n",
       "      <td>1.471210e+06</td>\n",
       "    </tr>\n",
       "    <tr>\n",
       "      <th>max</th>\n",
       "      <td>107701.748378</td>\n",
       "      <td>9.519088</td>\n",
       "      <td>10.759588</td>\n",
       "      <td>6.500000</td>\n",
       "      <td>69621.713378</td>\n",
       "      <td>2.469066e+06</td>\n",
       "    </tr>\n",
       "  </tbody>\n",
       "</table>\n",
       "</div>"
      ],
      "text/plain": [
       "       Avg. Area Income  Avg. Area House Age  Avg. Area Number of Rooms  \\\n",
       "count       5000.000000          5000.000000                5000.000000   \n",
       "mean       68583.108984             5.977222                   6.987792   \n",
       "std        10657.991214             0.991456                   1.005833   \n",
       "min        17796.631190             2.644304                   3.236194   \n",
       "25%        61480.562388             5.322283                   6.299250   \n",
       "50%        68804.286404             5.970429                   7.002902   \n",
       "75%        75783.338666             6.650808                   7.665871   \n",
       "max       107701.748378             9.519088                  10.759588   \n",
       "\n",
       "       Avg. Area Number of Bedrooms  Area Population         Price  \n",
       "count                   5000.000000      5000.000000  5.000000e+03  \n",
       "mean                       3.981330     36163.516039  1.232073e+06  \n",
       "std                        1.234137      9925.650114  3.531176e+05  \n",
       "min                        2.000000       172.610686  1.593866e+04  \n",
       "25%                        3.140000     29403.928702  9.975771e+05  \n",
       "50%                        4.050000     36199.406689  1.232669e+06  \n",
       "75%                        4.490000     42861.290769  1.471210e+06  \n",
       "max                        6.500000     69621.713378  2.469066e+06  "
      ]
     },
     "execution_count": 271,
     "metadata": {},
     "output_type": "execute_result"
    }
   ],
   "source": [
    "df.describe()"
   ]
  },
  {
   "cell_type": "code",
   "execution_count": 272,
   "id": "e4f79b29",
   "metadata": {},
   "outputs": [
    {
     "name": "stdout",
     "output_type": "stream",
     "text": [
      "<class 'pandas.core.frame.DataFrame'>\n",
      "RangeIndex: 5000 entries, 0 to 4999\n",
      "Data columns (total 6 columns):\n",
      " #   Column                        Non-Null Count  Dtype  \n",
      "---  ------                        --------------  -----  \n",
      " 0   Avg. Area Income              5000 non-null   float64\n",
      " 1   Avg. Area House Age           5000 non-null   float64\n",
      " 2   Avg. Area Number of Rooms     5000 non-null   float64\n",
      " 3   Avg. Area Number of Bedrooms  5000 non-null   float64\n",
      " 4   Area Population               5000 non-null   float64\n",
      " 5   Price                         5000 non-null   float64\n",
      "dtypes: float64(6)\n",
      "memory usage: 234.5 KB\n"
     ]
    }
   ],
   "source": [
    "df.info()"
   ]
  },
  {
   "cell_type": "code",
   "execution_count": 273,
   "id": "d6fd27ff",
   "metadata": {},
   "outputs": [],
   "source": [
    "def box_plotting(column_name):\n",
    "    print(\"\\n - \", column_name)\n",
    "    # Gera gráfico caixa de bigodes\n",
    "    fig = plt.figure()\n",
    "    sns.boxplot(df[column_name])\n",
    "\n",
    "    # Calcular os quartis e o indice quartil\n",
    "    q1 = df[column_name].quantile(0.25)\n",
    "    q3 = df[column_name].quantile(0.75)\n",
    "    IQR = q3 - q1\n",
    "    median = df[column_name].median()\n",
    "    print(\"Quartil 1: \", q1)\n",
    "    print(\"Mediana: \", median)\n",
    "    print(\"Quartil 3: \", q3)\n",
    "    print(\"Interquantil Range (IQR): \", IQR)\n",
    "\n",
    "    # Cacular os limites min/max para calcular outliers\n",
    "    lower = q1 - 1.5*IQR\n",
    "    upper = q3 + 1.5*IQR\n",
    "    print(\"Limite Superior:\", upper)\n",
    "    print(\"Limite Inferior:\", lower)\n",
    "        \n",
    "    clean_data = df[~((df[column_name] < lower) |(df[column_name] > upper))]\n",
    "    print(\"Qtd de outliers:\", df.shape[0] - clean_data.shape[0])\n",
    "    \n",
    "    return {'lower': lower, 'upper': upper}"
   ]
  },
  {
   "cell_type": "code",
   "execution_count": 274,
   "id": "b0891da8",
   "metadata": {
    "scrolled": false
   },
   "outputs": [
    {
     "name": "stdout",
     "output_type": "stream",
     "text": [
      "\n",
      " -  Avg. Area Income\n",
      "Quartil 1:  61480.562388460974\n",
      "Mediana:  68804.28640371616\n",
      "Quartil 3:  75783.33866615265\n",
      "Interquantil Range (IQR):  14302.776277691672\n",
      "Limite Superior: 97237.50308269015\n",
      "Limite Inferior: 40026.39797192346\n",
      "Qtd de outliers: 32\n",
      "\n",
      " -  Avg. Area House Age\n",
      "Quartil 1:  5.322283015802158\n",
      "Mediana:  5.970428947124802\n",
      "Quartil 3:  6.6508084794160585\n",
      "Interquantil Range (IQR):  1.3285254636139001\n",
      "Limite Superior: 8.643596674836909\n",
      "Limite Inferior: 3.329494820381308\n",
      "Qtd de outliers: 25\n",
      "\n",
      " -  Avg. Area Number of Rooms\n",
      "Quartil 1:  6.299250099611249\n",
      "Mediana:  7.002901987201934\n",
      "Quartil 3:  7.66587144759798\n",
      "Interquantil Range (IQR):  1.3666213479867313\n",
      "Limite Superior: 9.715803469578077\n",
      "Limite Inferior: 4.249318077631152\n",
      "Qtd de outliers: 24\n",
      "\n",
      " -  Avg. Area Number of Bedrooms\n",
      "Quartil 1:  3.14\n",
      "Mediana:  4.05\n",
      "Quartil 3:  4.49\n",
      "Interquantil Range (IQR):  1.35\n",
      "Limite Superior: 6.515000000000001\n",
      "Limite Inferior: 1.1149999999999998\n",
      "Qtd de outliers: 0\n",
      "\n",
      " -  Area Population\n",
      "Quartil 1:  29403.928701608518\n",
      "Mediana:  36199.406689260555\n",
      "Quartil 3:  42861.290768915605\n",
      "Interquantil Range (IQR):  13457.362067307087\n",
      "Limite Superior: 63047.33386987624\n",
      "Limite Inferior: 9217.885600647885\n",
      "Qtd de outliers: 30\n",
      "\n",
      " -  Price\n",
      "Quartil 1:  997577.1350487601\n",
      "Mediana:  1232669.3779657914\n",
      "Quartil 3:  1471210.2042115545\n",
      "Interquantil Range (IQR):  473633.0691627944\n",
      "Limite Superior: 2181659.807955746\n",
      "Limite Inferior: 287127.5313045685\n"
     ]
    },
    {
     "name": "stderr",
     "output_type": "stream",
     "text": [
      "C:\\Users\\ManuelSousa\\Anaconda3\\lib\\site-packages\\seaborn\\_decorators.py:36: FutureWarning: Pass the following variable as a keyword arg: x. From version 0.12, the only valid positional argument will be `data`, and passing other arguments without an explicit keyword will result in an error or misinterpretation.\n",
      "  warnings.warn(\n",
      "C:\\Users\\ManuelSousa\\Anaconda3\\lib\\site-packages\\seaborn\\_decorators.py:36: FutureWarning: Pass the following variable as a keyword arg: x. From version 0.12, the only valid positional argument will be `data`, and passing other arguments without an explicit keyword will result in an error or misinterpretation.\n",
      "  warnings.warn(\n",
      "C:\\Users\\ManuelSousa\\Anaconda3\\lib\\site-packages\\seaborn\\_decorators.py:36: FutureWarning: Pass the following variable as a keyword arg: x. From version 0.12, the only valid positional argument will be `data`, and passing other arguments without an explicit keyword will result in an error or misinterpretation.\n",
      "  warnings.warn(\n",
      "C:\\Users\\ManuelSousa\\Anaconda3\\lib\\site-packages\\seaborn\\_decorators.py:36: FutureWarning: Pass the following variable as a keyword arg: x. From version 0.12, the only valid positional argument will be `data`, and passing other arguments without an explicit keyword will result in an error or misinterpretation.\n",
      "  warnings.warn(\n",
      "C:\\Users\\ManuelSousa\\Anaconda3\\lib\\site-packages\\seaborn\\_decorators.py:36: FutureWarning: Pass the following variable as a keyword arg: x. From version 0.12, the only valid positional argument will be `data`, and passing other arguments without an explicit keyword will result in an error or misinterpretation.\n",
      "  warnings.warn(\n",
      "C:\\Users\\ManuelSousa\\Anaconda3\\lib\\site-packages\\seaborn\\_decorators.py:36: FutureWarning: Pass the following variable as a keyword arg: x. From version 0.12, the only valid positional argument will be `data`, and passing other arguments without an explicit keyword will result in an error or misinterpretation.\n",
      "  warnings.warn(\n"
     ]
    },
    {
     "name": "stdout",
     "output_type": "stream",
     "text": [
      "Qtd de outliers: 35\n"
     ]
    },
    {
     "data": {
      "image/png": "[encoded data removed]",
      "text/plain": [
       "<Figure size 1080x576 with 1 Axes>"
      ]
     },
     "metadata": {
      "needs_background": "light"
     },
     "output_type": "display_data"
    },
    {
     "data": {
      "image/png": "[encoded data removed]",
      "text/plain": [
       "<Figure size 1080x576 with 1 Axes>"
      ]
     },
     "metadata": {
      "needs_background": "light"
     },
     "output_type": "display_data"
    },
    {
     "data": {
      "image/png": "[encoded data removed]",
      "text/plain": [
       "<Figure size 1080x576 with 1 Axes>"
      ]
     },
     "metadata": {
      "needs_background": "light"
     },
     "output_type": "display_data"
    },
    {
     "data": {
      "image/png": "[encoded data removed]",
      "text/plain": [
       "<Figure size 1080x576 with 1 Axes>"
      ]
     },
     "metadata": {
      "needs_background": "light"
     },
     "output_type": "display_data"
    },
    {
     "data": {
      "image/png": "[encoded data removed]",
      "text/plain": [
       "<Figure size 1080x576 with 1 Axes>"
      ]
     },
     "metadata": {
      "needs_background": "light"
     },
     "output_type": "display_data"
    },
    {
     "data": {
      "image/png": "[encoded data removed]",
      "text/plain": [
       "<Figure size 1080x576 with 1 Axes>"
      ]
     },
     "metadata": {
      "needs_background": "light"
     },
     "output_type": "display_data"
    }
   ],
   "source": [
    "# Check for outliers in dataset\n",
    "columns = df.columns\n",
    "for col in columns:\n",
    "    box_plotting(col)\n",
    "#     df = df[~((df[col] < o['lower']) |(df[col] > o['upper']))]"
   ]
  },
  {
   "cell_type": "code",
   "execution_count": 275,
   "id": "9af0b1bd",
   "metadata": {
    "scrolled": false
   },
   "outputs": [
    {
     "data": {
      "image/png": "[encoded data removed]",
      "text/plain": [
       "<Figure size 1080x576 with 2 Axes>"
      ]
     },
     "metadata": {
      "needs_background": "light"
     },
     "output_type": "display_data"
    }
   ],
   "source": [
    "plt.rcParams['figure.figsize'] = (15, 8)\n",
    "sns.heatmap(df.corr(), cmap = 'Wistia', annot = True)\n",
    "plt.title('Correlation Matrix', fontsize = 20)\n",
    "plt.show()"
   ]
  },
  {
   "cell_type": "markdown",
   "id": "1d51ae90",
   "metadata": {},
   "source": [
    "Seems to exist considerable correlation between all features and our target"
   ]
  },
  {
   "cell_type": "code",
   "execution_count": 276,
   "id": "9718d6b4",
   "metadata": {
    "scrolled": true
   },
   "outputs": [
    {
     "data": {
      "text/plain": [
       "(5000, 6)"
      ]
     },
     "execution_count": 276,
     "metadata": {},
     "output_type": "execute_result"
    }
   ],
   "source": [
    "df.shape"
   ]
  },
  {
   "cell_type": "markdown",
   "id": "d8f6b94f",
   "metadata": {},
   "source": [
    "## Training"
   ]
  },
  {
   "cell_type": "code",
   "execution_count": 277,
   "id": "f80b2ed3",
   "metadata": {},
   "outputs": [],
   "source": [
    "# Target\n",
    "y = df['Price']"
   ]
  },
  {
   "cell_type": "code",
   "execution_count": 278,
   "id": "409807b7",
   "metadata": {},
   "outputs": [
    {
     "data": {
      "text/plain": [
       "0       1.059034e+06\n",
       "1       1.505891e+06\n",
       "2       1.058988e+06\n",
       "3       1.260617e+06\n",
       "4       6.309435e+05\n",
       "            ...     \n",
       "4995    1.060194e+06\n",
       "4996    1.482618e+06\n",
       "4997    1.030730e+06\n",
       "4998    1.198657e+06\n",
       "4999    1.298950e+06\n",
       "Name: Price, Length: 5000, dtype: float64"
      ]
     },
     "execution_count": 278,
     "metadata": {},
     "output_type": "execute_result"
    }
   ],
   "source": [
    "y"
   ]
  },
  {
   "cell_type": "code",
   "execution_count": 279,
   "id": "304a02ea",
   "metadata": {},
   "outputs": [],
   "source": [
    "# Features\n",
    "X = df\n",
    "# drop one column by name\n",
    "X.drop('Price', axis=1, inplace=True)"
   ]
  },
  {
   "cell_type": "code",
   "execution_count": 280,
   "id": "50161776",
   "metadata": {},
   "outputs": [
    {
     "data": {
      "text/html": [
       "<div>\n",
       "<style scoped>\n",
       "    .dataframe tbody tr th:only-of-type {\n",
       "        vertical-align: middle;\n",
       "    }\n",
       "\n",
       "    .dataframe tbody tr th {\n",
       "        vertical-align: top;\n",
       "    }\n",
       "\n",
       "    .dataframe thead th {\n",
       "        text-align: right;\n",
       "    }\n",
       "</style>\n",
       "<table border=\"1\" class=\"dataframe\">\n",
       "  <thead>\n",
       "    <tr style=\"text-align: right;\">\n",
       "      <th></th>\n",
       "      <th>Avg. Area Income</th>\n",
       "      <th>Avg. Area House Age</th>\n",
       "      <th>Avg. Area Number of Rooms</th>\n",
       "      <th>Avg. Area Number of Bedrooms</th>\n",
       "      <th>Area Population</th>\n",
       "    </tr>\n",
       "  </thead>\n",
       "  <tbody>\n",
       "    <tr>\n",
       "      <th>0</th>\n",
       "      <td>79545.458574</td>\n",
       "      <td>5.682861</td>\n",
       "      <td>7.009188</td>\n",
       "      <td>4.09</td>\n",
       "      <td>23086.800503</td>\n",
       "    </tr>\n",
       "    <tr>\n",
       "      <th>1</th>\n",
       "      <td>79248.642455</td>\n",
       "      <td>6.002900</td>\n",
       "      <td>6.730821</td>\n",
       "      <td>3.09</td>\n",
       "      <td>40173.072174</td>\n",
       "    </tr>\n",
       "    <tr>\n",
       "      <th>2</th>\n",
       "      <td>61287.067179</td>\n",
       "      <td>5.865890</td>\n",
       "      <td>8.512727</td>\n",
       "      <td>5.13</td>\n",
       "      <td>36882.159400</td>\n",
       "    </tr>\n",
       "    <tr>\n",
       "      <th>3</th>\n",
       "      <td>63345.240046</td>\n",
       "      <td>7.188236</td>\n",
       "      <td>5.586729</td>\n",
       "      <td>3.26</td>\n",
       "      <td>34310.242831</td>\n",
       "    </tr>\n",
       "    <tr>\n",
       "      <th>4</th>\n",
       "      <td>59982.197226</td>\n",
       "      <td>5.040555</td>\n",
       "      <td>7.839388</td>\n",
       "      <td>4.23</td>\n",
       "      <td>26354.109472</td>\n",
       "    </tr>\n",
       "    <tr>\n",
       "      <th>...</th>\n",
       "      <td>...</td>\n",
       "      <td>...</td>\n",
       "      <td>...</td>\n",
       "      <td>...</td>\n",
       "      <td>...</td>\n",
       "    </tr>\n",
       "    <tr>\n",
       "      <th>4995</th>\n",
       "      <td>60567.944140</td>\n",
       "      <td>7.830362</td>\n",
       "      <td>6.137356</td>\n",
       "      <td>3.46</td>\n",
       "      <td>22837.361035</td>\n",
       "    </tr>\n",
       "    <tr>\n",
       "      <th>4996</th>\n",
       "      <td>78491.275435</td>\n",
       "      <td>6.999135</td>\n",
       "      <td>6.576763</td>\n",
       "      <td>4.02</td>\n",
       "      <td>25616.115489</td>\n",
       "    </tr>\n",
       "    <tr>\n",
       "      <th>4997</th>\n",
       "      <td>63390.686886</td>\n",
       "      <td>7.250591</td>\n",
       "      <td>4.805081</td>\n",
       "      <td>2.13</td>\n",
       "      <td>33266.145490</td>\n",
       "    </tr>\n",
       "    <tr>\n",
       "      <th>4998</th>\n",
       "      <td>68001.331235</td>\n",
       "      <td>5.534388</td>\n",
       "      <td>7.130144</td>\n",
       "      <td>5.44</td>\n",
       "      <td>42625.620156</td>\n",
       "    </tr>\n",
       "    <tr>\n",
       "      <th>4999</th>\n",
       "      <td>65510.581804</td>\n",
       "      <td>5.992305</td>\n",
       "      <td>6.792336</td>\n",
       "      <td>4.07</td>\n",
       "      <td>46501.283803</td>\n",
       "    </tr>\n",
       "  </tbody>\n",
       "</table>\n",
       "<p>5000 rows × 5 columns</p>\n",
       "</div>"
      ],
      "text/plain": [
       "      Avg. Area Income  Avg. Area House Age  Avg. Area Number of Rooms  \\\n",
       "0         79545.458574             5.682861                   7.009188   \n",
       "1         79248.642455             6.002900                   6.730821   \n",
       "2         61287.067179             5.865890                   8.512727   \n",
       "3         63345.240046             7.188236                   5.586729   \n",
       "4         59982.197226             5.040555                   7.839388   \n",
       "...                ...                  ...                        ...   \n",
       "4995      60567.944140             7.830362                   6.137356   \n",
       "4996      78491.275435             6.999135                   6.576763   \n",
       "4997      63390.686886             7.250591                   4.805081   \n",
       "4998      68001.331235             5.534388                   7.130144   \n",
       "4999      65510.581804             5.992305                   6.792336   \n",
       "\n",
       "      Avg. Area Number of Bedrooms  Area Population  \n",
       "0                             4.09     23086.800503  \n",
       "1                             3.09     40173.072174  \n",
       "2                             5.13     36882.159400  \n",
       "3                             3.26     34310.242831  \n",
       "4                             4.23     26354.109472  \n",
       "...                            ...              ...  \n",
       "4995                          3.46     22837.361035  \n",
       "4996                          4.02     25616.115489  \n",
       "4997                          2.13     33266.145490  \n",
       "4998                          5.44     42625.620156  \n",
       "4999                          4.07     46501.283803  \n",
       "\n",
       "[5000 rows x 5 columns]"
      ]
     },
     "execution_count": 280,
     "metadata": {},
     "output_type": "execute_result"
    }
   ],
   "source": [
    "X"
   ]
  },
  {
   "cell_type": "code",
   "execution_count": 281,
   "id": "a41c7879",
   "metadata": {},
   "outputs": [],
   "source": [
    "# 80/20 training and testing splitting - Pareto principle\n",
    "X_train, X_test, y_train, y_test = train_test_split(X, y, test_size=0.2)"
   ]
  },
  {
   "cell_type": "markdown",
   "id": "23030bf7",
   "metadata": {},
   "source": [
    "## Linear Regression"
   ]
  },
  {
   "cell_type": "code",
   "execution_count": 282,
   "id": "e34f34f2",
   "metadata": {},
   "outputs": [],
   "source": [
    "from sklearn.linear_model import LinearRegression"
   ]
  },
  {
   "cell_type": "code",
   "execution_count": 283,
   "id": "aa9577d7",
   "metadata": {},
   "outputs": [],
   "source": [
    "lr_model = LinearRegression()\n",
    "lr_model.fit(X_train, y_train)\n",
    "lr_pred = lr_model.predict(X_test)"
   ]
  },
  {
   "cell_type": "code",
   "execution_count": 284,
   "id": "eb3c63b9",
   "metadata": {
    "scrolled": true
   },
   "outputs": [
    {
     "data": {
      "text/plain": [
       "array([1423704.85690737, 1212485.20386362,  615208.51921416,\n",
       "       1893772.3336932 , 1440320.78434135, 1258002.10672292,\n",
       "       1515222.61784185, 1501752.32501699,  852825.11006138,\n",
       "       1758394.19053944, 1402949.71732165,  994251.77628601,\n",
       "       1074037.80049115, 1047732.73168481, 1413699.89762797,\n",
       "       1003562.27954739, 1329140.93461312, 1365575.0423558 ,\n",
       "       1683595.39650058, 1014878.72456635, 1272032.5017652 ,\n",
       "        492904.83360905,  523093.6906627 , 1442096.72703306,\n",
       "       1308371.64804866, 1363968.20382505,  876973.71884131,\n",
       "        941967.04099369, 1095124.00914319,  965418.15195745,\n",
       "       1532813.72015715, 1145982.08788872,  993271.20298112,\n",
       "        945003.84609667,  627665.19938196, 1396023.62590989,\n",
       "        835563.89683491, 1185355.08768592, 2123945.01472301,\n",
       "       1431959.59224014, 1798431.30506611, 1722437.01420909,\n",
       "       1059168.69376832, 1288146.26654832, 1324294.05138567,\n",
       "       1007653.16453137, 1110382.38265957, 1595063.23114462,\n",
       "       1845422.14276939,  424615.89328113, 1182317.23548157,\n",
       "        918711.12796396, 1670953.21726423, 1527278.49375433,\n",
       "        904983.13675046, 1046292.17863369,  768360.69195908,\n",
       "       1174026.20682179, 1572405.03928093, 1170843.06697819,\n",
       "        876704.96141241, 1011236.88520093, 1320250.2721704 ,\n",
       "       1424071.85610183, 1148773.27268237,  724036.40643663,\n",
       "        875106.06286268,  993369.65337619, 1390497.28111661,\n",
       "       1649278.51744293,  790986.87390378, 1067963.58965764,\n",
       "       1010013.79686932, 1474163.72407232, 1189144.96393064,\n",
       "       1203702.10040127, 1297563.28083341, 1002828.80792804,\n",
       "       1394771.18283502, 1764732.07012261,  924383.03320769,\n",
       "        851609.85420449, 1322687.55348417, 1204169.74861556,\n",
       "       1060345.96590584, 1278726.99566037, 1195538.06739936,\n",
       "        910947.8728005 , 1497033.11374931, 1509964.85285142,\n",
       "       1201449.58660689, 1078559.39639678,  889127.14807521,\n",
       "       1358291.76724155, 1848995.16470773, 1161065.72755388,\n",
       "       1038924.56029901, 1555435.05430183, 1847536.84597793,\n",
       "       1103926.62311861, 1077415.62941218, 1289482.55796075,\n",
       "       1467396.620592  ,  865141.1257153 , 1307457.45826325,\n",
       "       1213890.43605106, 1509699.00814603, 1126339.87118734,\n",
       "       1568824.66908244,  870191.03991714, 1711233.37026617,\n",
       "       1387379.08491005, 1404020.33023653,  868428.25667911,\n",
       "       1292551.74793854,  574996.14835349, 1206986.14933342,\n",
       "        801872.84508503,  997566.37387794,  578545.68302397,\n",
       "        708212.18526792, 1325060.91751134, 1034472.14428895,\n",
       "       1280444.36362691,  940384.98392919,  664909.71231356,\n",
       "       1223885.72528917, 1408002.97382718, 1271840.1797853 ,\n",
       "       1123551.8298471 , 1074499.6629273 , 1538663.32343152,\n",
       "       1699706.13567881, 1236697.24161704, 1152687.91017169,\n",
       "       1355590.62688009, 1978186.86958977, 1421631.64459296,\n",
       "       1486384.13139057, 1083292.32146218, 1204063.55478267,\n",
       "       1392393.86617692, 1496134.87679567, 1100213.41172428,\n",
       "       1799343.85816143, 2166294.18067857,  799182.43670696,\n",
       "        310439.39252242, 1380786.18258622, 1258457.18094111,\n",
       "        703620.21113474, 1077746.15276249, 1641009.92289054,\n",
       "        931009.34753616, 1447305.86676069,  851098.26702352,\n",
       "        567784.73335347, 1664365.44322717,  845424.55055526,\n",
       "       1377526.38421374, 1580761.31906959, 1546951.15061359,\n",
       "       1217761.50001146, 1496454.72103169, 1188326.0181672 ,\n",
       "       1583739.73341456,  883517.69023083, 1626217.41627971,\n",
       "       1805409.63876982, 1190875.55870717, 1561215.11248893,\n",
       "       1361286.03895191,  986551.39615448, 1682863.83047519,\n",
       "       1584747.86131515, 1545261.41787479, 1460035.12552238,\n",
       "        871733.24089276, 1230479.67575547, 1240944.24484599,\n",
       "       1183495.63137163,  988247.46800735, 1299239.2232904 ,\n",
       "       1378160.07443381,  579638.48685146, 1677425.90222528,\n",
       "        774717.22993053, 1501649.9663876 , 1654887.40318779,\n",
       "        933886.46593681, 1288393.05789218, 1187152.57883828,\n",
       "       1072262.23013095,  767463.70892611, 1438923.99086807,\n",
       "        780763.14271088, 1104110.80160496, 1461876.81124441,\n",
       "       1122094.17175338,  423033.18760736, 1786481.59735962,\n",
       "       1033554.82191399, 1586923.51181072, 1429410.46771185,\n",
       "        466096.95087957,  960433.2166595 , 1236389.16805519,\n",
       "       1072896.87039852, 1130329.47770455, 1182784.20192892,\n",
       "       1239606.02502168, 1354326.96047906,  924577.07546529,\n",
       "       1183552.40281803, 1679970.525915  , 1115611.32557987,\n",
       "       1126920.61589477, 1408017.78443109, 1076922.25748554,\n",
       "       1688355.78137856, 1289370.15767926, 1189384.50500435,\n",
       "       1509358.9207262 ,  445466.04404309, 1083260.84016478,\n",
       "        803610.28916892, 2338730.37305841, 1401242.61109977,\n",
       "       1342831.33885075, 1210782.86562673, 1996088.03074152,\n",
       "       1074844.07487426, 1541874.55557768, 1209721.93292431,\n",
       "       2015206.14611747, 1005648.48975233, 1390601.13411123,\n",
       "        903792.20298536,  984782.68669434,  970022.76760321,\n",
       "       1294991.57788295, 1085451.27980673, 1439953.82209175,\n",
       "       1630995.94106928, 1287521.76074777, 1386200.35477897,\n",
       "       1271195.72463772, 1049334.17397878,  908079.59136164,\n",
       "        880070.21126482,  921792.29416435,  933262.64242148,\n",
       "       1212455.10314131, 1308794.49526746, 1046378.87585138,\n",
       "       1454322.02728104, 1753350.35502032, 1363800.95833103,\n",
       "       1210813.99842057,  887000.48781647, 1889109.08155482,\n",
       "       1267150.15597904,  729774.30596068,  656407.47056396,\n",
       "       1152766.08578831, 1212495.87422714, 1365916.11073669,\n",
       "       1596147.07144338, 1547580.07834693, 1294520.63754819,\n",
       "       1418822.9715572 ,  744610.75139965, 1817170.58532961,\n",
       "       1194067.08268547,  919452.42004522, 1761614.99692292,\n",
       "       1045282.22729761, 1295836.82042639,  889042.54291811,\n",
       "       1196352.49718999, 1061582.0977868 , 1251546.20402025,\n",
       "       1216843.92836135, 1223754.30388596, 1096370.63964966,\n",
       "       1013265.57604715, 1481689.76194512, 1835421.51686434,\n",
       "       1029706.59218597, 1232084.92326918, 1542313.03850051,\n",
       "        609939.75642189,  633000.14469048,  977418.05904521,\n",
       "       1045850.04296477,  918537.86125096, 1333910.65179667,\n",
       "       1378495.21688007, 1683704.36935243, 1471607.11386372,\n",
       "       1802878.35575523, 1544109.67222228, 1175242.2144698 ,\n",
       "       1268618.57793428, 1434266.50907566, 1329544.51812473,\n",
       "       1849034.06878411,  853293.33645038,  989311.24592844,\n",
       "       1471723.24035269, 1042508.62589433, 1185304.41935951,\n",
       "       1357617.91963415, 1267543.82602299, 1171808.64421564,\n",
       "       1067066.05920401, 1046797.09406355, 1915223.03599912,\n",
       "       1323845.98028475, 1408410.50733535, 1558760.20668181,\n",
       "       1756323.80469621,  660898.33897167, 1060545.97143454,\n",
       "       1143447.14239083, 1306620.59328489,  684441.76397817,\n",
       "       1703219.7687744 , 1765679.65404416,  986453.72518657,\n",
       "       1146244.29244568, 1581477.52613989, 1255772.28854911,\n",
       "       1517100.21103382, 1163501.41019252, 1400017.92425712,\n",
       "        775628.23114807, 1401525.21179993, 1414831.38746889,\n",
       "        906087.68440179, 1113862.74307955, 1728547.31114085,\n",
       "       1874242.66566721, 1278480.00067436, 1727604.72762308,\n",
       "        642895.55899897, 1411290.32427888, 1038058.918959  ,\n",
       "       1298638.99471774, 1625819.69232416,  925084.35817476,\n",
       "       1392875.266226  , 1635834.32197847,  936007.83641827,\n",
       "       1530575.40287831, 1287879.64992493, 1092099.17187142,\n",
       "       1464285.7254203 , 1399431.68869443, 1277644.15444507,\n",
       "       1486067.5326201 , 1408223.86449308,  904402.50362112,\n",
       "       1212592.86171951,  928147.08914848,  899464.86034441,\n",
       "       1038259.45776212, 1558130.4945522 , 1056626.01141918,\n",
       "       1268412.66996501, 1123055.81000994, 1502152.13434693,\n",
       "       1270213.75429439, 1120085.04265643, 1171422.08132068,\n",
       "        977003.27112758, 1369119.375651  , 1010697.4263709 ,\n",
       "        798671.44430073, 1230923.3901497 ,  834583.31335574,\n",
       "        928026.06182067, 1165410.02564832, 1454894.68176792,\n",
       "       1155644.13498748,  997813.24318412, 2128561.04075663,\n",
       "        984533.1158317 ,  966948.22076256, 1335450.01692725,\n",
       "        966918.90870227, 1711935.79594447, 1260789.47339156,\n",
       "        842610.51979812,  885412.95594638,  894863.18777344,\n",
       "        938931.20970821,  995244.41833732, 1353078.32835478,\n",
       "       1404698.10287256, 1099820.37609152, 1538135.19784601,\n",
       "        983772.78665824, 1237072.87692287, 1502354.13195785,\n",
       "       1591747.12341369, 1400592.64635175, 1413526.77031615,\n",
       "        788815.18275263, 1062356.00831674, 1108448.7187797 ,\n",
       "       1131201.83518885, 1350725.92225468, 1348989.33067994,\n",
       "       1617038.73449548, 1472928.00062493, 1227082.85056145,\n",
       "       1902638.38152194, 1150460.69243895, 1177541.03501276,\n",
       "       1349051.88647581, 1048759.05885752, 1505362.07799593,\n",
       "        886857.04946687,  860562.24069304, 1372979.96097731,\n",
       "        887000.82923114, 1226526.45759401, 1719089.7762683 ,\n",
       "       1720915.51528568, 1152164.12156568, 1032930.3494304 ,\n",
       "       1512509.88197384, 1063756.53587432,  835184.36170259,\n",
       "       1148410.68131902, 1624646.61619602, 1218543.66240423,\n",
       "       1144980.44082367, 1686900.53175995, 1159428.08471162,\n",
       "        970144.57128769,  800338.1094766 , 1119655.1685362 ,\n",
       "        988887.22770037, 1387142.05395029, 1105480.27089277,\n",
       "       1668966.73040058, 1643102.17746693, 1366747.44784093,\n",
       "       1199569.12109816, 1003829.41502906,  886945.08591459,\n",
       "        896911.67976007, 1863809.53019992, 1180107.70009995,\n",
       "       1372378.90702858,  680538.51430099, 1295909.42942854,\n",
       "        508603.30493431,  951108.35257427, 1268062.43340641,\n",
       "        775510.8318796 ,  898648.66888976,  719481.40183257,\n",
       "       1520922.70201175, 1156259.22196613, 1546865.37625285,\n",
       "       1462852.98845428, 1596844.97091918, 1677949.24097051,\n",
       "       1355735.1119339 , 1357049.66880322, 1016943.80095628,\n",
       "       1635329.29100566, 1380702.436357  , 1345349.90239034,\n",
       "        614054.47059166, 1531815.06745986,  826532.73262063,\n",
       "       1546277.99006911, 1454294.54487139, 1167773.51749358,\n",
       "        927440.25151056, 1065166.48893401, 1228312.94562849,\n",
       "       1111178.89035373, 1050636.6863182 ,  909161.38130616,\n",
       "       1362474.88938032, 1116302.11231915, 1549079.32547184,\n",
       "       1562465.08379109, 1208613.23494096, 1267412.95304935,\n",
       "       1394913.00248314, 1376137.05481497, 1107859.11084806,\n",
       "       1367061.20682802, 1025611.79564548, 1170608.10027365,\n",
       "       1452353.43114228, 1389870.72755014, 1315107.17130244,\n",
       "        874671.43865635, 1093728.72261298, 1048924.17961418,\n",
       "       2247994.96103393, 1326049.25292053, 1601418.70900868,\n",
       "       1573925.88506061, 1616812.68233627, 1178876.14438566,\n",
       "       1019930.09101713, 1460434.24603966, 1233612.38084362,\n",
       "       1586784.89641451, 1713090.73091622, 1584255.35551832,\n",
       "        872035.740474  , 1813189.87362391, 1269282.36860143,\n",
       "        781792.64188995, 1449599.73700224, 1386852.3119933 ,\n",
       "        686216.39351732, 1054889.51072744,  843811.38610176,\n",
       "       1750448.22641615, 1299044.13217384, 1251784.40866563,\n",
       "       1581560.41618626, 1433514.79071253, 1312530.75141896,\n",
       "       1355493.25812038, 1246108.42917135, 1542481.67434512,\n",
       "       1334838.81406229,  836648.9372171 , 1380496.56322597,\n",
       "       1050595.56514868,  946054.05975932, 1572878.3350949 ,\n",
       "       1278486.03398517,  730439.87697452,  991897.64637386,\n",
       "       1842277.68524203, 1295536.83275432, 1546250.42114574,\n",
       "       1202667.54177542,  701813.93887341,  782336.53279331,\n",
       "       1789447.99680597, 1370711.0604528 ,  636633.19676081,\n",
       "       1201609.4138306 , 1375541.14307522, 1079702.25731193,\n",
       "       1154329.9484856 , 1044388.40513077, 1090272.51863436,\n",
       "       1286867.84212362, 1505183.17894154, 1152557.71002965,\n",
       "       1768815.73564378, 1272730.76375293, 1542006.17396026,\n",
       "       1486902.14583544,  801893.93493598, 1064294.64356429,\n",
       "        851928.67958697,  662143.89129267,  984000.03860934,\n",
       "       1591531.44771704, 1075524.65514014, 1010744.17511162,\n",
       "       1052700.64595084, 1526172.92298471, 1372223.77458533,\n",
       "        712451.49799659, 1269257.7666809 ,  590739.1330244 ,\n",
       "       1051460.31532231, 1664859.46587815, 1095215.44987838,\n",
       "       1246645.11323021, 1342935.44314272, 1540341.24180277,\n",
       "       1374685.93629564, 1062743.99108529, 1189581.57422706,\n",
       "       1248316.28763238,  634519.89898446, 1273588.00646588,\n",
       "        791439.51382338, 1153621.161518  , 1318202.7481524 ,\n",
       "       1461694.12128636, 1242035.25096794, 1071882.19516309,\n",
       "        661119.26946583,  908334.77306025, 1150643.52169835,\n",
       "       1276082.20827477,  951374.62355703, 1426400.75465078,\n",
       "       1114709.49898379,  388276.66921715, 1433995.86488925,\n",
       "       1502041.97257187,  473513.43069808,  748002.82738376,\n",
       "       2180266.77750304,  684904.92820344, 1394836.44291283,\n",
       "       2090294.67065921, 2129922.62042185,  967776.89149754,\n",
       "        802149.5127037 , 1188848.16123694, 1298398.7977685 ,\n",
       "        963784.36059187,  968159.02602133, 1491087.3068888 ,\n",
       "       1378165.57723096, 1193517.90299945, 1010687.87608793,\n",
       "        982296.90939682,  646264.64398186, 1433265.33483199,\n",
       "       1032672.01846152, 1285071.34005563, 1376698.9909079 ,\n",
       "       1221273.32279064,  877504.62286435, 1258670.35854738,\n",
       "        572447.10003833, 1660570.21473169, 1801388.88062759,\n",
       "       1171832.99883927, 1433709.20763975,  528324.35604233,\n",
       "       1241774.48378217, 1148930.48524685, 1576329.36730817,\n",
       "       1942788.64322175,  918382.39126091, 1571151.42840781,\n",
       "        772233.94509884,  940699.65824674, 1236538.74487119,\n",
       "       1698468.51307515,  857403.67857729,  897416.83395166,\n",
       "       1648202.55677793, 1416237.53771462,  886167.38665195,\n",
       "        936546.26515727, 1155063.65457032, 1895798.14763913,\n",
       "       1345076.15867436,  937801.27019143, 1130509.73948128,\n",
       "       1577455.54432039, 1291066.20345427, 1261341.85879343,\n",
       "       1169769.0973595 , 1835010.9183932 ,  874150.37503636,\n",
       "       1024907.49045784,  520556.42107463, 1070230.40447623,\n",
       "       1580559.33163497, 1206855.35119518, 1104423.91841736,\n",
       "       1213028.72615629, 1232248.96692371, 1535573.4322858 ,\n",
       "       1160134.13050465, 1147131.63328874,  703316.04420755,\n",
       "       1141008.95920304, 1680354.11583697, 1601287.07669789,\n",
       "        938440.02309945, 1072394.16074728, 1550474.77226818,\n",
       "        754628.13710394, 1153870.7349294 , 1444338.43126677,\n",
       "       1617703.65725196, 1487061.20344611,  651207.02019702,\n",
       "       1621880.33257842, 1529384.85124617, 1183858.41796148,\n",
       "       1118788.91936888, 1750692.6216633 ,  605390.89147063,\n",
       "        896031.53067782, 1790333.52800734, 1634039.41953146,\n",
       "       1280371.73305392, 1268492.31141397, 1336483.99330406,\n",
       "        873314.62531059, 1539363.76008906, 1246293.18364767,\n",
       "       1090864.79573657, 1486238.67273315, 1227148.12442845,\n",
       "       1194672.78631316, 1201156.66011747, 1028362.95275014,\n",
       "       1006412.97579108, 1274429.26360099, 1629504.50078256,\n",
       "       1192659.51533147, 1066933.88218105,  724622.64835885,\n",
       "       1067409.71239671, 1120926.34297319, 1452787.37893953,\n",
       "       1228287.75311747, 1376593.77010136, 1350494.67829662,\n",
       "       1259266.88127224, 1475570.32978788,  945183.13656541,\n",
       "       1285473.88901088,  760773.16977964, 1059665.58415999,\n",
       "       1648177.97545342,  427216.79525277,  816471.80420024,\n",
       "        455238.84479217, 1434032.94642857,  993336.21488545,\n",
       "        903031.59318987, 1424805.22427716, 1682896.96534635,\n",
       "       1278557.97542785, 1780249.36651541, 1298076.47676467,\n",
       "       1393274.62191052, 1202513.18912964, 1188770.13918647,\n",
       "       1609878.1327492 , 1352236.04067547,  810791.00122365,\n",
       "        788355.16200129, 1499366.31657019,  776595.23949275,\n",
       "       1001770.86570464, 1092580.96400035, 1654497.15837033,\n",
       "       1834510.64322688, 1229478.25771569, 1692562.87765546,\n",
       "       1329171.11582295, 1305181.16395639, 1164904.91757329,\n",
       "        866305.64585206, 1090270.01571547, 1009294.61355461,\n",
       "        991615.46898463, 1279705.89520077,  911662.43210418,\n",
       "        704625.79642188, 1748440.82316361, 1455265.62997683,\n",
       "        536026.84239494, 1173124.41902938, 1524747.57509103,\n",
       "       1020989.13911493, 1648571.36845982,  420758.37939911,\n",
       "       1345559.31598204, 1391639.23778875, 1081837.64911278,\n",
       "        846056.06031633, 1275925.792528  , 1369586.8001233 ,\n",
       "       1093823.07425492, 1304221.18086035,  854801.44738101,\n",
       "        569347.12251563, 1218952.14137531,  838856.68492822,\n",
       "       1282072.19413812, 1536448.86393511,  784895.35142043,\n",
       "        770026.8829686 , 1509546.47876355, 1441276.46366799,\n",
       "       1107078.94614107, 1393797.00568526, 1455130.48541435,\n",
       "       1263953.64452355, 1112370.67207343, 1196699.80976105,\n",
       "        914261.08925874,  977862.96674562, 1749220.1911613 ,\n",
       "       1052473.16813885,  877502.53722742, 1568321.8600423 ,\n",
       "       1031562.51425025, 1636181.36173687, 1982995.67800716,\n",
       "        839781.72258617, 1193605.33241623, 1058127.77328473,\n",
       "       1181837.39158959, 1411869.49505001, 1446063.64164165,\n",
       "       1073989.3014864 ,  712812.81187313, 1446865.55466003,\n",
       "       1400808.62295303, 1434214.98464578, 1445475.11138675,\n",
       "       1438610.54347704, 1127973.60540319,  950044.86340968,\n",
       "       1374629.94426476, 1119253.26988796, 1539675.77972075,\n",
       "       1546410.09045049, 1007730.65986744,  761310.21007327,\n",
       "       1330762.96043213,  665371.96316577,  760206.49484514,\n",
       "        965224.06010067, 1458484.24192568,  771285.72338816,\n",
       "        753979.01705027, 1187797.57595915, 1499831.315625  ,\n",
       "        631026.39323702, 1671783.99921727, 1169363.90098212,\n",
       "       1287661.43871921, 1580222.30525737, 1829933.44379271,\n",
       "        971714.92980733, 1285400.74292064, 1241185.52824194,\n",
       "       1173628.05425685, 1273105.48875432,  965020.98928698,\n",
       "       1395834.62219679,  767770.44524993,  527139.32293852,\n",
       "       1582970.01053146, 1499331.15690087, 1553492.57893544,\n",
       "       1298091.78226045,  934163.00878838,  930631.00676686,\n",
       "       1892985.71624159, 1763789.54573229, 1517311.24259996,\n",
       "        746211.22973952,  930712.27815476, 1171126.89456374,\n",
       "       1243757.12856646, 1166176.22722222, 1551132.78093085,\n",
       "       1485276.49924021,  910743.14263828,  105644.94932397,\n",
       "       1625631.150561  , 1165280.2511389 ,  967953.47468517,\n",
       "       1219622.00524346, 1371389.70677657, 1264380.99885283,\n",
       "       1265675.22815686,  906627.88338213, 1516152.42497505,\n",
       "       1208115.43065351, 1061564.02379328,  496072.56033716,\n",
       "       1283815.72321801, 1142709.3949569 , 1501952.12750597,\n",
       "       1692259.36330033, 1984801.67603106, 1649388.78322501,\n",
       "       1372156.16059534, 1737783.4176092 , 1485306.81380087,\n",
       "       1502436.97140756, 1095924.75078542, 1449554.29745853,\n",
       "       1473883.19501794, 1250096.42622528,  899673.93349882,\n",
       "       1277551.49198772, 1219623.92207975,  627770.94091591,\n",
       "       1441842.98543044, 1105986.30553714, 1153873.86173873,\n",
       "       1479364.5661821 ,  933373.08983292, 1427419.6829547 ,\n",
       "       1182647.70746738, 1493042.29584309, 1484227.24643354,\n",
       "       1766002.54705619, 1524369.27048193,  868607.66487137,\n",
       "        867815.84214222, 1225745.47736813, 1303430.55305216,\n",
       "       1566445.86512856, 1064647.22106636, 1416925.01045047,\n",
       "        995994.92545393, 1385011.91325726, 1826558.9232712 ,\n",
       "        882513.64254979,  933846.80301812, 1163511.29469565,\n",
       "       1034191.46595582, 1391860.7208886 , 1237873.91553586,\n",
       "       1471917.43535029,  252373.22617695, 1057557.91357275,\n",
       "       1108073.8386952 , 1196568.45411947,  827504.7787701 ,\n",
       "       1498512.87207178, 1137349.49314308,  596703.58574962,\n",
       "       1220471.1141356 ,  705836.15989244, 1519304.44666636,\n",
       "       1009660.42204331, 1023598.87060362, 1693686.61539739,\n",
       "        733357.77718554, 1339373.97737402,  644048.56230945,\n",
       "       1133194.42166156,  913405.88857902,  788360.64228818,\n",
       "       1190842.97704445, 1920823.36417771, 1427623.00893606,\n",
       "       1195391.91379609,  789542.53000788,  934122.67218519,\n",
       "       1387511.04377428, 1796714.04126829, 1503329.4051313 ,\n",
       "       1054112.4545531 ,  970618.79671105, 1046789.10254077,\n",
       "        650665.7270421 , 1557834.76659993,  950153.95877237,\n",
       "       1230760.14727881, 1120363.7401682 , 1442948.15654388,\n",
       "       1426319.16656986,  780111.82526806,  715196.00966529,\n",
       "       1698963.64229457, 1513946.09291719, 1090438.36130667,\n",
       "       1115059.44513974, 1189013.84355373, 1649421.88261685,\n",
       "       1611862.61371207, 1338319.453199  , 1181353.36590593,\n",
       "       1436866.56747734, 1066931.49930615, 1284958.55652675,\n",
       "       1258450.98300271,  999693.7955812 ,  935727.72879871,\n",
       "        918979.46854642,  980976.64995234, 1151782.36014101,\n",
       "       1319192.88165808,  846953.2365554 ,  965307.99083183,\n",
       "       1950411.06738029,  591103.58792368, 1261134.9980763 ,\n",
       "       1120157.07824006,  845198.68412365, 1096326.98805549,\n",
       "       1037002.30955563])"
      ]
     },
     "execution_count": 284,
     "metadata": {},
     "output_type": "execute_result"
    }
   ],
   "source": [
    "lr_pred"
   ]
  },
  {
   "cell_type": "code",
   "execution_count": 285,
   "id": "6a9387bc",
   "metadata": {},
   "outputs": [],
   "source": [
    "from sklearn.metrics import mean_squared_error, mean_absolute_error\n",
    "\n",
    "def evaluate(tt, pred):\n",
    "    mae = mean_absolute_error(tt, pred)\n",
    "    mse = mean_squared_error(tt, pred)\n",
    "    rmse = mean_squared_error(tt, pred, squared=False)\n",
    "    print(\"MAE:\", mae)\n",
    "    print(\"MSE:\", mse)\n",
    "    print(\"RMSE:\", rmse)\n",
    "    return {'mae': mae, 'mse': mse, 'rmse': rmse}"
   ]
  },
  {
   "cell_type": "code",
   "execution_count": 286,
   "id": "bd56a48d",
   "metadata": {
    "scrolled": true
   },
   "outputs": [
    {
     "name": "stdout",
     "output_type": "stream",
     "text": [
      "MAE: 81327.30184157685\n",
      "MSE: 10308074049.635502\n",
      "RMSE: 101528.68584609721\n"
     ]
    }
   ],
   "source": [
    "lr_score = evaluate(y_test, lr_pred)"
   ]
  },
  {
   "cell_type": "code",
   "execution_count": 287,
   "id": "8f3d8729",
   "metadata": {},
   "outputs": [],
   "source": [
    "lr_res = pd.DataFrame({\n",
    "    'Model': ['Linear Regression'], \n",
    "    'Train MAE': None, \n",
    "    'Train RMSE': None, \n",
    "    'Test MAE': lr_score['mae'], \n",
    "    'Test RMSE': lr_score['rmse'] \n",
    "})"
   ]
  },
  {
   "cell_type": "code",
   "execution_count": 288,
   "id": "406ecfd4",
   "metadata": {},
   "outputs": [
    {
     "data": {
      "text/html": [
       "<div>\n",
       "<style scoped>\n",
       "    .dataframe tbody tr th:only-of-type {\n",
       "        vertical-align: middle;\n",
       "    }\n",
       "\n",
       "    .dataframe tbody tr th {\n",
       "        vertical-align: top;\n",
       "    }\n",
       "\n",
       "    .dataframe thead th {\n",
       "        text-align: right;\n",
       "    }\n",
       "</style>\n",
       "<table border=\"1\" class=\"dataframe\">\n",
       "  <thead>\n",
       "    <tr style=\"text-align: right;\">\n",
       "      <th></th>\n",
       "      <th>Model</th>\n",
       "      <th>Train MAE</th>\n",
       "      <th>Train RMSE</th>\n",
       "      <th>Test MAE</th>\n",
       "      <th>Test RMSE</th>\n",
       "    </tr>\n",
       "  </thead>\n",
       "  <tbody>\n",
       "    <tr>\n",
       "      <th>0</th>\n",
       "      <td>Linear Regression</td>\n",
       "      <td>None</td>\n",
       "      <td>None</td>\n",
       "      <td>81327.301842</td>\n",
       "      <td>101528.685846</td>\n",
       "    </tr>\n",
       "  </tbody>\n",
       "</table>\n",
       "</div>"
      ],
      "text/plain": [
       "               Model Train MAE Train RMSE      Test MAE      Test RMSE\n",
       "0  Linear Regression      None       None  81327.301842  101528.685846"
      ]
     },
     "execution_count": 288,
     "metadata": {},
     "output_type": "execute_result"
    }
   ],
   "source": [
    "lr_res"
   ]
  },
  {
   "cell_type": "code",
   "execution_count": 289,
   "id": "38b17aed",
   "metadata": {
    "scrolled": false
   },
   "outputs": [
    {
     "data": {
      "text/plain": [
       "<matplotlib.collections.PathCollection at 0x24254b81130>"
      ]
     },
     "execution_count": 289,
     "metadata": {},
     "output_type": "execute_result"
    },
    {
     "data": {
      "image/png": "[encoded data removed]",
      "text/plain": [
       "<Figure size 1080x576 with 1 Axes>"
      ]
     },
     "metadata": {
      "needs_background": "light"
     },
     "output_type": "display_data"
    }
   ],
   "source": [
    "plt.scatter(y_test, lr_pred)"
   ]
  },
  {
   "cell_type": "markdown",
   "id": "170433dd",
   "metadata": {},
   "source": [
    "##  Decision Trees"
   ]
  },
  {
   "cell_type": "code",
   "execution_count": 290,
   "id": "ba036129",
   "metadata": {},
   "outputs": [],
   "source": [
    "from sklearn.tree import DecisionTreeRegressor\n",
    "from sklearn.model_selection import GridSearchCV"
   ]
  },
  {
   "cell_type": "code",
   "execution_count": 291,
   "id": "2ac2c1d1",
   "metadata": {},
   "outputs": [
    {
     "name": "stdout",
     "output_type": "stream",
     "text": [
      "MAE: 107845.77633473447\n",
      "MSE: 19085924530.123264\n",
      "RMSE: 138151.81696280098\n"
     ]
    },
    {
     "data": {
      "text/plain": [
       "{'mae': 107845.77633473447,\n",
       " 'mse': 19085924530.123264,\n",
       " 'rmse': 138151.81696280098}"
      ]
     },
     "execution_count": 291,
     "metadata": {},
     "output_type": "execute_result"
    }
   ],
   "source": [
    "dtr_model = DecisionTreeRegressor(max_depth=15, min_samples_leaf=20) \n",
    "dtr_model.fit(X_train, y_train)\n",
    "\n",
    "dtr_pred_train = dtr_model.predict(X_train)\n",
    "evaluate(y_train, dtr_pred_train)"
   ]
  },
  {
   "cell_type": "code",
   "execution_count": 292,
   "id": "3c3cfb99",
   "metadata": {},
   "outputs": [
    {
     "name": "stdout",
     "output_type": "stream",
     "text": [
      "MAE: 130317.58291803622\n",
      "MSE: 27792105923.345562\n",
      "RMSE: 166709.64556181373\n"
     ]
    },
    {
     "data": {
      "text/plain": [
       "{'mae': 130317.58291803622,\n",
       " 'mse': 27792105923.345562,\n",
       " 'rmse': 166709.64556181373}"
      ]
     },
     "execution_count": 292,
     "metadata": {},
     "output_type": "execute_result"
    }
   ],
   "source": [
    "dtr_pred_test = dtr_model.predict(X_test)\n",
    "evaluate(y_test, dtr_pred_test)"
   ]
  },
  {
   "cell_type": "code",
   "execution_count": 293,
   "id": "53701374",
   "metadata": {},
   "outputs": [],
   "source": [
    "# lets try some grid search\n",
    "\n",
    "param = {'splitter':('best', 'random'), \n",
    "         'max_depth' : [1,2,3,4,5,10], \n",
    "         'min_samples_leaf' : [1, 2, 3, 4, 5, 10, 15, 20, 25, 30, 35]}\n",
    "\n",
    "dtr_gs = GridSearchCV(DecisionTreeRegressor(), param)"
   ]
  },
  {
   "cell_type": "code",
   "execution_count": 294,
   "id": "b8c9d1e2",
   "metadata": {},
   "outputs": [
    {
     "data": {
      "text/plain": [
       "GridSearchCV(estimator=DecisionTreeRegressor(),\n",
       "             param_grid={'max_depth': [1, 2, 3, 4, 5, 10],\n",
       "                         'min_samples_leaf': [1, 2, 3, 4, 5, 10, 15, 20, 25, 30,\n",
       "                                              35],\n",
       "                         'splitter': ('best', 'random')})"
      ]
     },
     "execution_count": 294,
     "metadata": {},
     "output_type": "execute_result"
    }
   ],
   "source": [
    "dtr_gs.fit(X_train, y_train)"
   ]
  },
  {
   "cell_type": "code",
   "execution_count": 295,
   "id": "41be15a7",
   "metadata": {},
   "outputs": [
    {
     "data": {
      "text/plain": [
       "DecisionTreeRegressor(max_depth=10, min_samples_leaf=5)"
      ]
     },
     "execution_count": 295,
     "metadata": {},
     "output_type": "execute_result"
    }
   ],
   "source": [
    "dtr_gs.best_estimator_"
   ]
  },
  {
   "cell_type": "code",
   "execution_count": 296,
   "id": "13877633",
   "metadata": {},
   "outputs": [
    {
     "name": "stdout",
     "output_type": "stream",
     "text": [
      "MAE: 75702.83816820488\n",
      "MSE: 9232525752.491976\n",
      "RMSE: 96086.03307709178\n"
     ]
    }
   ],
   "source": [
    "dtr_pred_train = dtr_gs.predict(X_train)\n",
    "dtr_train_score = evaluate(y_train, dtr_pred_train)"
   ]
  },
  {
   "cell_type": "code",
   "execution_count": 297,
   "id": "b660cc24",
   "metadata": {},
   "outputs": [
    {
     "name": "stdout",
     "output_type": "stream",
     "text": [
      "MAE: 124931.40154001785\n",
      "MSE: 24656260631.912594\n",
      "RMSE: 157023.12132903418\n"
     ]
    }
   ],
   "source": [
    "dtr_pred_test = dtr_gs.predict(X_test)\n",
    "dtr_test_score = evaluate(y_test, dtr_pred_test)"
   ]
  },
  {
   "cell_type": "code",
   "execution_count": 298,
   "id": "08ef9e0d",
   "metadata": {},
   "outputs": [],
   "source": [
    "dtr_res = pd.DataFrame({\n",
    "    'Model': ['Decision Trees Regressor'], \n",
    "    'Train MAE': dtr_train_score['mae'], \n",
    "    'Train RMSE': dtr_train_score['rmse'], \n",
    "    'Test MAE': dtr_test_score['mae'], \n",
    "    'Test RMSE': dtr_test_score['rmse'] \n",
    "})\n",
    "\n",
    "r1 = lr_res.append(dtr_res, ignore_index=True)"
   ]
  },
  {
   "cell_type": "code",
   "execution_count": 302,
   "id": "b225f215",
   "metadata": {},
   "outputs": [
    {
     "data": {
      "text/html": [
       "<div>\n",
       "<style scoped>\n",
       "    .dataframe tbody tr th:only-of-type {\n",
       "        vertical-align: middle;\n",
       "    }\n",
       "\n",
       "    .dataframe tbody tr th {\n",
       "        vertical-align: top;\n",
       "    }\n",
       "\n",
       "    .dataframe thead th {\n",
       "        text-align: right;\n",
       "    }\n",
       "</style>\n",
       "<table border=\"1\" class=\"dataframe\">\n",
       "  <thead>\n",
       "    <tr style=\"text-align: right;\">\n",
       "      <th></th>\n",
       "      <th>Model</th>\n",
       "      <th>Train MAE</th>\n",
       "      <th>Train RMSE</th>\n",
       "      <th>Test MAE</th>\n",
       "      <th>Test RMSE</th>\n",
       "    </tr>\n",
       "  </thead>\n",
       "  <tbody>\n",
       "    <tr>\n",
       "      <th>0</th>\n",
       "      <td>Linear Regression</td>\n",
       "      <td>NaN</td>\n",
       "      <td>NaN</td>\n",
       "      <td>81327.301842</td>\n",
       "      <td>101528.685846</td>\n",
       "    </tr>\n",
       "    <tr>\n",
       "      <th>1</th>\n",
       "      <td>Decision Trees Regressor</td>\n",
       "      <td>75702.838168</td>\n",
       "      <td>96086.033077</td>\n",
       "      <td>124931.401540</td>\n",
       "      <td>157023.121329</td>\n",
       "    </tr>\n",
       "  </tbody>\n",
       "</table>\n",
       "</div>"
      ],
      "text/plain": [
       "                      Model     Train MAE    Train RMSE       Test MAE  \\\n",
       "0         Linear Regression           NaN           NaN   81327.301842   \n",
       "1  Decision Trees Regressor  75702.838168  96086.033077  124931.401540   \n",
       "\n",
       "       Test RMSE  \n",
       "0  101528.685846  \n",
       "1  157023.121329  "
      ]
     },
     "execution_count": 302,
     "metadata": {},
     "output_type": "execute_result"
    }
   ],
   "source": [
    "r1"
   ]
  },
  {
   "cell_type": "markdown",
   "id": "417e97e8",
   "metadata": {},
   "source": [
    "##  Bagging - Decision Trees"
   ]
  },
  {
   "cell_type": "code",
   "execution_count": 299,
   "id": "9ebc01dd",
   "metadata": {},
   "outputs": [],
   "source": [
    "from sklearn.ensemble import BaggingClassifier, BaggingRegressor"
   ]
  },
  {
   "cell_type": "code",
   "execution_count": 300,
   "id": "53de9b90",
   "metadata": {},
   "outputs": [
    {
     "name": "stderr",
     "output_type": "stream",
     "text": [
      "[Parallel(n_jobs=8)]: Using backend LokyBackend with 8 concurrent workers.\n"
     ]
    },
    {
     "name": "stdout",
     "output_type": "stream",
     "text": [
      "MAE: 83384.84081224486\n",
      "MSE: 11385191252.20497\n",
      "RMSE: 106701.41166922287\n"
     ]
    },
    {
     "name": "stderr",
     "output_type": "stream",
     "text": [
      "[Parallel(n_jobs=8)]: Done   2 out of   8 | elapsed:    2.4s remaining:    7.3s\n",
      "[Parallel(n_jobs=8)]: Done   8 out of   8 | elapsed:    2.5s finished\n",
      "[Parallel(n_jobs=8)]: Using backend LokyBackend with 8 concurrent workers.\n",
      "[Parallel(n_jobs=8)]: Done   2 out of   8 | elapsed:    0.0s remaining:    0.0s\n",
      "[Parallel(n_jobs=8)]: Done   8 out of   8 | elapsed:    0.0s finished\n"
     ]
    },
    {
     "data": {
      "text/plain": [
       "{'mae': 83384.84081224486,\n",
       " 'mse': 11385191252.20497,\n",
       " 'rmse': 106701.41166922287}"
      ]
     },
     "execution_count": 300,
     "metadata": {},
     "output_type": "execute_result"
    }
   ],
   "source": [
    "bag_dtr_model = BaggingRegressor(\n",
    "    base_estimator=DecisionTreeRegressor(max_depth=10, min_samples_leaf=10),\n",
    "    verbose=1,\n",
    "    n_jobs=-1\n",
    ")\n",
    "\n",
    "bag_dtr_model.fit(X_train, y_train)\n",
    "\n",
    "bag_dtr_pred_train = bag_dtr_model.predict(X_train)\n",
    "evaluate(y_train, bag_dtr_pred_train)"
   ]
  },
  {
   "cell_type": "code",
   "execution_count": 301,
   "id": "0acc2571",
   "metadata": {},
   "outputs": [
    {
     "name": "stdout",
     "output_type": "stream",
     "text": [
      "MAE: 102906.42961652979\n",
      "MSE: 17628579512.109676\n",
      "RMSE: 132772.66101163175\n"
     ]
    },
    {
     "name": "stderr",
     "output_type": "stream",
     "text": [
      "[Parallel(n_jobs=8)]: Using backend LokyBackend with 8 concurrent workers.\n",
      "[Parallel(n_jobs=8)]: Done   2 out of   8 | elapsed:    0.0s remaining:    0.0s\n",
      "[Parallel(n_jobs=8)]: Done   8 out of   8 | elapsed:    0.0s finished\n"
     ]
    },
    {
     "data": {
      "text/plain": [
       "{'mae': 102906.42961652979,\n",
       " 'mse': 17628579512.109676,\n",
       " 'rmse': 132772.66101163175}"
      ]
     },
     "execution_count": 301,
     "metadata": {},
     "output_type": "execute_result"
    }
   ],
   "source": [
    "bag_dtr_pred_test = bag_dtr_model.predict(X_test)\n",
    "evaluate(y_test, bag_dtr_pred_test)"
   ]
  },
  {
   "cell_type": "code",
   "execution_count": 303,
   "id": "44eee7f4",
   "metadata": {},
   "outputs": [],
   "source": [
    "from sklearn.ensemble import RandomForestRegressor"
   ]
  },
  {
   "cell_type": "code",
   "execution_count": null,
   "id": "5d75ec5c",
   "metadata": {},
   "outputs": [],
   "source": []
  },
  {
   "cell_type": "code",
   "execution_count": null,
   "id": "f56d314b",
   "metadata": {},
   "outputs": [],
   "source": []
  },
  {
   "cell_type": "code",
   "execution_count": null,
   "id": "f0cb0c01",
   "metadata": {},
   "outputs": [],
   "source": []
  },
  {
   "cell_type": "code",
   "execution_count": null,
   "id": "bed96709",
   "metadata": {},
   "outputs": [],
   "source": []
  },
  {
   "cell_type": "code",
   "execution_count": null,
   "id": "e533e404",
   "metadata": {},
   "outputs": [],
   "source": []
  },
  {
   "cell_type": "code",
   "execution_count": null,
   "id": "7f24e68c",
   "metadata": {},
   "outputs": [],
   "source": []
  },
  {
   "cell_type": "code",
   "execution_count": null,
   "id": "89d722f8",
   "metadata": {},
   "outputs": [],
   "source": []
  },
  {
   "cell_type": "code",
   "execution_count": null,
   "id": "8f432057",
   "metadata": {},
   "outputs": [],
   "source": []
  },
  {
   "cell_type": "code",
   "execution_count": null,
   "id": "2bf140ca",
   "metadata": {},
   "outputs": [],
   "source": []
  }
 ],
 "metadata": {
  "kernelspec": {
   "display_name": "Python 3 (ipykernel)",
   "language": "python",
   "name": "python3"
  },
  "language_info": {
   "codemirror_mode": {
    "name": "ipython",
    "version": 3
   },
   "file_extension": ".py",
   "mimetype": "text/x-python",
   "name": "python",
   "nbconvert_exporter": "python",
   "pygments_lexer": "ipython3",
   "version": "3.9.7"
  }
 },
 "nbformat": 4,
 "nbformat_minor": 5
}
