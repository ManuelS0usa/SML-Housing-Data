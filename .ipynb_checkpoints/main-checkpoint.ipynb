{
 "cells": [
  {
   "cell_type": "markdown",
   "id": "32c3368f",
   "metadata": {},
   "source": [
    "# Class Pratical Assigment\n",
    "#### 28.03.2022\n",
    "\n",
    "Predicting Housing Prices for regions in the USA. The data contains the following columns:\n",
    " - 'Avg. Area Income': Avg. Income of residents of the city house is located in;\n",
    " - 'Avg. Area House Age': Avg Age of Houses in same city;\n",
    " - 'Avg. Area Number of Rooms': Avg Number of Rooms for Houses in same city;\n",
    " - 'Avg. Area Number of Bedrooms': Avg Number of Bedrooms for Houses in same city;\n",
    " - 'Area Population': Population of city house is located in;\n",
    " - 'Price': Price that the house sold at;\n",
    " - 'Address': Address for the house.\n",
    "\n",
    "### ML Algorithms used:\n",
    " - Linear regression;\n",
    " - Decision Trees;\n",
    " - Decision Trees - Bagging;\n",
    " - Random Forest;\n",
    " - XGBoost;\n",
    "\n",
    "\n",
    "### References: \n",
    " - https://www.kaggle.com/code/faressayah/practical-introduction-to-10-regression-algorithm#%F0%9F%93%8A-Models-Comparison\n",
    " - https://github.com/TheAIFramework/PracticalMachineLearning/blob/Trees/4%20-%20Ensemble%20Methods.ipynb\n",
    " - https://github.com/TheAIFramework/PracticalMachineLearning/blob/Trees/3%20-%20Decision%20Trees.ipynb\n",
    " - https://github.com/TheAIFramework/PracticalMachineLearning/tree/gradient"
   ]
  },
  {
   "cell_type": "code",
   "execution_count": null,
   "id": "e57d3633",
   "metadata": {},
   "outputs": [],
   "source": [
    "import pandas as pd\n",
    "import seaborn as sns\n",
    "import matplotlib.pyplot as plt\n",
    "\n",
    "from sklearn.model_selection import train_test_split"
   ]
  },
  {
   "cell_type": "code",
   "execution_count": null,
   "id": "c96bfa8f",
   "metadata": {},
   "outputs": [],
   "source": [
    "df = pd.read_csv('Housing_Data.csv')"
   ]
  },
  {
   "cell_type": "code",
   "execution_count": null,
   "id": "01b272c9",
   "metadata": {},
   "outputs": [],
   "source": [
    "df.head()"
   ]
  },
  {
   "cell_type": "code",
   "execution_count": null,
   "id": "310d76d9",
   "metadata": {},
   "outputs": [],
   "source": [
    "df.columns"
   ]
  },
  {
   "cell_type": "code",
   "execution_count": null,
   "id": "6d879560",
   "metadata": {},
   "outputs": [],
   "source": [
    "df.info()"
   ]
  },
  {
   "cell_type": "markdown",
   "id": "37c95bd8",
   "metadata": {},
   "source": [
    "## Data Analysis and Cleaning"
   ]
  },
  {
   "cell_type": "code",
   "execution_count": null,
   "id": "a3bc632e",
   "metadata": {},
   "outputs": [],
   "source": [
    "# Encontra valores nulos no dataset\n",
    "df.isna().sum()"
   ]
  },
  {
   "cell_type": "code",
   "execution_count": null,
   "id": "0f13a182",
   "metadata": {
    "scrolled": true
   },
   "outputs": [],
   "source": [
    "# Tamanho do dataset\n",
    "print('Nº linhas:', df.shape[0])\n",
    "print('Nº colunas:', df.shape[1])"
   ]
  },
  {
   "cell_type": "markdown",
   "id": "780d8a9b",
   "metadata": {},
   "source": [
    "'Address' column doesnt significantly add something to the dataset, thus is fully dropped"
   ]
  },
  {
   "cell_type": "code",
   "execution_count": null,
   "id": "31ba814b",
   "metadata": {
    "scrolled": true
   },
   "outputs": [],
   "source": [
    "df = df.drop(['Address'], axis=1)"
   ]
  },
  {
   "cell_type": "code",
   "execution_count": null,
   "id": "b834277d",
   "metadata": {},
   "outputs": [],
   "source": [
    "df.head(10)"
   ]
  },
  {
   "cell_type": "code",
   "execution_count": null,
   "id": "3611e71d",
   "metadata": {},
   "outputs": [],
   "source": [
    "df.columns"
   ]
  },
  {
   "cell_type": "code",
   "execution_count": null,
   "id": "e3ac1c26",
   "metadata": {},
   "outputs": [],
   "source": [
    "df.describe()"
   ]
  },
  {
   "cell_type": "code",
   "execution_count": null,
   "id": "f7fe224d",
   "metadata": {},
   "outputs": [],
   "source": [
    "df.info()"
   ]
  },
  {
   "cell_type": "code",
   "execution_count": null,
   "id": "d6fd27ff",
   "metadata": {},
   "outputs": [],
   "source": [
    "def box_plotting(column_name):\n",
    "    print(\"\\n - \", column_name)\n",
    "    # Gera gráfico caixa de bigodes\n",
    "    fig = plt.figure()\n",
    "    sns.boxplot(df[column_name])\n",
    "\n",
    "    # Calcular os quartis e o indice quartil\n",
    "    q1 = df[column_name].quantile(0.25)\n",
    "    q3 = df[column_name].quantile(0.75)\n",
    "    IQR = q3 - q1\n",
    "    median = df[column_name].median()\n",
    "    print(\"Quartil 1: \", q1)\n",
    "    print(\"Mediana: \", median)\n",
    "    print(\"Quartil 3: \", q3)\n",
    "    print(\"Interquantil Range (IQR): \", IQR)\n",
    "\n",
    "    # Cacular os limites min/max para calcular outliers\n",
    "    lower = q1 - 1.5*IQR\n",
    "    upper = q3 + 1.5*IQR\n",
    "    print(\"Limite Superior:\", upper)\n",
    "    print(\"Limite Inferior:\", lower)\n",
    "        \n",
    "    clean_data = df[~((df[column_name] < lower) |(df[column_name] > upper))]\n",
    "    print(\"Qtd de outliers:\", df.shape[0] - clean_data.shape[0])\n",
    "    \n",
    "    return {'lower': lower, 'upper': upper}"
   ]
  },
  {
   "cell_type": "code",
   "execution_count": null,
   "id": "b0891da8",
   "metadata": {
    "scrolled": false
   },
   "outputs": [],
   "source": [
    "# Check for outliers in dataset\n",
    "columns = df.columns\n",
    "for col in columns:\n",
    "    box_plotting(col)\n",
    "#     df = df[~((df[col] < o['lower']) |(df[col] > o['upper']))]"
   ]
  },
  {
   "cell_type": "code",
   "execution_count": null,
   "id": "9af0b1bd",
   "metadata": {
    "scrolled": false
   },
   "outputs": [],
   "source": [
    "plt.rcParams['figure.figsize'] = (15, 8)\n",
    "sns.heatmap(df.corr(), cmap = 'Wistia', annot = True)\n",
    "plt.title('Correlation Matrix', fontsize = 20)\n",
    "plt.show()"
   ]
  },
  {
   "cell_type": "markdown",
   "id": "8ecccdd2",
   "metadata": {},
   "source": [
    "Seems to exist considerable correlation between all features and our target"
   ]
  },
  {
   "cell_type": "code",
   "execution_count": null,
   "id": "9718d6b4",
   "metadata": {
    "scrolled": true
   },
   "outputs": [],
   "source": [
    "df.shape"
   ]
  },
  {
   "cell_type": "markdown",
   "id": "d8f6b94f",
   "metadata": {},
   "source": [
    "## Training"
   ]
  },
  {
   "cell_type": "code",
   "execution_count": null,
   "id": "b62140fa",
   "metadata": {},
   "outputs": [],
   "source": [
    "# standardize data\n",
    "from sklearn.preprocessing import MinMaxScaler\n",
    "norm_scale = MinMaxScaler().fit_transform(df)\n",
    "df = pd.DataFrame(norm_scale,columns=df.columns)\n",
    "print(df.head())"
   ]
  },
  {
   "cell_type": "code",
   "execution_count": null,
   "id": "d92b532b",
   "metadata": {},
   "outputs": [],
   "source": [
    "df"
   ]
  },
  {
   "cell_type": "code",
   "execution_count": null,
   "id": "f80b2ed3",
   "metadata": {},
   "outputs": [],
   "source": [
    "# Target\n",
    "y = df['Price']"
   ]
  },
  {
   "cell_type": "code",
   "execution_count": null,
   "id": "409807b7",
   "metadata": {},
   "outputs": [],
   "source": [
    "y"
   ]
  },
  {
   "cell_type": "code",
   "execution_count": null,
   "id": "304a02ea",
   "metadata": {},
   "outputs": [],
   "source": [
    "# Features\n",
    "X = df\n",
    "# drop one column by name\n",
    "X.drop('Price', axis=1, inplace=True)"
   ]
  },
  {
   "cell_type": "code",
   "execution_count": null,
   "id": "50161776",
   "metadata": {},
   "outputs": [],
   "source": [
    "X"
   ]
  },
  {
   "cell_type": "code",
   "execution_count": null,
   "id": "a41c7879",
   "metadata": {},
   "outputs": [],
   "source": [
    "# 80/20 training and testing splitting - Pareto principle\n",
    "X_train, X_test, y_train, y_test = train_test_split(X, y, test_size=0.2)"
   ]
  },
  {
   "cell_type": "markdown",
   "id": "5152c5eb",
   "metadata": {},
   "source": [
    "## Linear Regression"
   ]
  },
  {
   "cell_type": "code",
   "execution_count": null,
   "id": "e34f34f2",
   "metadata": {},
   "outputs": [],
   "source": [
    "from sklearn.linear_model import LinearRegression"
   ]
  },
  {
   "cell_type": "code",
   "execution_count": null,
   "id": "aa9577d7",
   "metadata": {},
   "outputs": [],
   "source": [
    "lr_model = LinearRegression()\n",
    "lr_model.fit(X_train, y_train)\n",
    "lr_pred = lr_model.predict(X_test)"
   ]
  },
  {
   "cell_type": "code",
   "execution_count": null,
   "id": "79a87c7c",
   "metadata": {
    "scrolled": true
   },
   "outputs": [],
   "source": [
    "lr_pred"
   ]
  },
  {
   "cell_type": "code",
   "execution_count": null,
   "id": "6a9387bc",
   "metadata": {},
   "outputs": [],
   "source": [
    "from sklearn.metrics import mean_squared_error, mean_absolute_error\n",
    "\n",
    "def evaluate(tt, pred):\n",
    "    mae = mean_absolute_error(tt, pred)\n",
    "    mse = mean_squared_error(tt, pred)\n",
    "    rmse = mean_squared_error(tt, pred, squared=False)\n",
    "    print(\"MAE:\", mae)\n",
    "    print(\"MSE:\", mse)\n",
    "    print(\"RMSE:\", rmse)\n",
    "    return {'mae': mae, 'mse': mse, 'rmse': rmse}"
   ]
  },
  {
   "cell_type": "code",
   "execution_count": null,
   "id": "2cdb95cf",
   "metadata": {
    "scrolled": true
   },
   "outputs": [],
   "source": [
    "lr_score = evaluate(y_test, lr_pred)"
   ]
  },
  {
   "cell_type": "code",
   "execution_count": null,
   "id": "89167c99",
   "metadata": {},
   "outputs": [],
   "source": [
    "lr_res = pd.DataFrame({\n",
    "    'Model': ['Linear Regression'], \n",
    "    'Train MAE': None, \n",
    "    'Train RMSE': None, \n",
    "    'Test MAE': lr_score['mae'], \n",
    "    'Test RMSE': lr_score['rmse'] \n",
    "})"
   ]
  },
  {
   "cell_type": "code",
   "execution_count": null,
   "id": "4c5fc31d",
   "metadata": {},
   "outputs": [],
   "source": [
    "lr_res"
   ]
  },
  {
   "cell_type": "code",
   "execution_count": null,
   "id": "38b17aed",
   "metadata": {
    "scrolled": false
   },
   "outputs": [],
   "source": [
    "plt.scatter(y_test, lr_pred)"
   ]
  },
  {
   "cell_type": "markdown",
   "id": "41676c3d",
   "metadata": {},
   "source": [
    "##  Decision Trees"
   ]
  },
  {
   "cell_type": "code",
   "execution_count": null,
   "id": "ba036129",
   "metadata": {},
   "outputs": [],
   "source": [
    "from sklearn.tree import DecisionTreeRegressor\n",
    "from sklearn.model_selection import GridSearchCV"
   ]
  },
  {
   "cell_type": "code",
   "execution_count": null,
   "id": "8ae0c7ca",
   "metadata": {},
   "outputs": [],
   "source": [
    "dtr_model = DecisionTreeRegressor(max_depth=15, min_samples_leaf=20) \n",
    "dtr_model.fit(X_train, y_train)\n",
    "\n",
    "dtr_pred_train = dtr_model.predict(X_train)\n",
    "evaluate(y_train, dtr_pred_train)"
   ]
  },
  {
   "cell_type": "code",
   "execution_count": null,
   "id": "c0c6cb11",
   "metadata": {},
   "outputs": [],
   "source": [
    "dtr_pred_test = dtr_model.predict(X_test)\n",
    "evaluate(y_test, dtr_pred_test)"
   ]
  },
  {
   "cell_type": "code",
   "execution_count": null,
   "id": "fa9d74b7",
   "metadata": {},
   "outputs": [],
   "source": [
    "# lets try some Grid Search\n",
    "\n",
    "param = {'splitter':('best', 'random'), \n",
    "         'max_depth' : [1,2,3,4,5,10], \n",
    "         'min_samples_leaf' : [1, 2, 3, 4, 5, 10, 15, 20, 25, 30, 35]}\n",
    "\n",
    "dtr_gs = GridSearchCV(DecisionTreeRegressor(), param)"
   ]
  },
  {
   "cell_type": "code",
   "execution_count": null,
   "id": "2208daaf",
   "metadata": {},
   "outputs": [],
   "source": [
    "dtr_gs.fit(X_train, y_train)"
   ]
  },
  {
   "cell_type": "code",
   "execution_count": null,
   "id": "574717bd",
   "metadata": {},
   "outputs": [],
   "source": [
    "dtr_gs.best_estimator_"
   ]
  },
  {
   "cell_type": "code",
   "execution_count": null,
   "id": "0e6faa4f",
   "metadata": {},
   "outputs": [],
   "source": [
    "dtr_pred_train = dtr_gs.predict(X_train)\n",
    "dtr_train_score = evaluate(y_train, dtr_pred_train)"
   ]
  },
  {
   "cell_type": "code",
   "execution_count": null,
   "id": "f1000b2f",
   "metadata": {},
   "outputs": [],
   "source": [
    "dtr_pred_test = dtr_gs.predict(X_test)\n",
    "dtr_test_score = evaluate(y_test, dtr_pred_test)"
   ]
  },
  {
   "cell_type": "code",
   "execution_count": null,
   "id": "b1894ea9",
   "metadata": {},
   "outputs": [],
   "source": [
    "dtr_res = pd.DataFrame({\n",
    "    'Model': ['Decision Trees Regressor'], \n",
    "    'Train MAE': dtr_train_score['mae'], \n",
    "    'Train RMSE': dtr_train_score['rmse'], \n",
    "    'Test MAE': dtr_test_score['mae'], \n",
    "    'Test RMSE': dtr_test_score['rmse'] \n",
    "})\n",
    "\n",
    "r1 = lr_res.append(dtr_res, ignore_index=True)"
   ]
  },
  {
   "cell_type": "code",
   "execution_count": null,
   "id": "f883991a",
   "metadata": {},
   "outputs": [],
   "source": [
    "r1"
   ]
  },
  {
   "cell_type": "markdown",
   "id": "95875a32",
   "metadata": {},
   "source": [
    "##  Bagging - Decision Trees"
   ]
  },
  {
   "cell_type": "code",
   "execution_count": null,
   "id": "bd970590",
   "metadata": {},
   "outputs": [],
   "source": [
    "from sklearn.ensemble import BaggingClassifier, BaggingRegressor"
   ]
  },
  {
   "cell_type": "code",
   "execution_count": null,
   "id": "5dec33c8",
   "metadata": {},
   "outputs": [],
   "source": [
    "bag_dtr_model = BaggingRegressor(\n",
    "    base_estimator=DecisionTreeRegressor(max_depth=10, min_samples_leaf=3),\n",
    "    verbose=1,\n",
    "    n_jobs=-1\n",
    ")\n",
    "\n",
    "bag_dtr_model.fit(X_train, y_train)\n",
    "\n",
    "bag_dtr_pred_train = bag_dtr_model.predict(X_train)\n",
    "bag_dtr_train_score = evaluate(y_train, bag_dtr_pred_train)"
   ]
  },
  {
   "cell_type": "code",
   "execution_count": null,
   "id": "b52fccc8",
   "metadata": {},
   "outputs": [],
   "source": [
    "bag_dtr_pred_test = bag_dtr_model.predict(X_test)\n",
    "bag_dtr_test_score = evaluate(y_test, bag_dtr_pred_test)"
   ]
  },
  {
   "cell_type": "code",
   "execution_count": null,
   "id": "c61ecbf2",
   "metadata": {},
   "outputs": [],
   "source": [
    "bag_dtr_res = pd.DataFrame({\n",
    "    'Model': ['Decision Trees Regressor - Bagging'], \n",
    "    'Train MAE': bag_dtr_train_score['mae'], \n",
    "    'Train RMSE': bag_dtr_train_score['rmse'], \n",
    "    'Test MAE': bag_dtr_test_score['mae'], \n",
    "    'Test RMSE': bag_dtr_test_score['rmse'] \n",
    "})\n",
    "\n",
    "r2 = r1.append(bag_dtr_res, ignore_index=True)"
   ]
  },
  {
   "cell_type": "code",
   "execution_count": null,
   "id": "3ce5ea24",
   "metadata": {},
   "outputs": [],
   "source": [
    "r2"
   ]
  },
  {
   "cell_type": "markdown",
   "id": "b94e3ba2",
   "metadata": {},
   "source": [
    "## Random Forest"
   ]
  },
  {
   "cell_type": "code",
   "execution_count": null,
   "id": "04dbf5ae",
   "metadata": {},
   "outputs": [],
   "source": [
    "from sklearn.ensemble import RandomForestRegressor"
   ]
  },
  {
   "cell_type": "code",
   "execution_count": null,
   "id": "7f1b48c8",
   "metadata": {},
   "outputs": [],
   "source": [
    "rfr_model = RandomForestRegressor(max_depth=10, n_estimators=3, verbose=1, n_jobs=-1)\n",
    "\n",
    "rfr_model.fit(X_train, y_train)\n",
    "\n",
    "rfr_pred_train = rfr_model.predict(X_train)\n",
    "rfr_train_score = evaluate(y_train, rfr_pred_train)"
   ]
  },
  {
   "cell_type": "code",
   "execution_count": null,
   "id": "1dd86979",
   "metadata": {},
   "outputs": [],
   "source": [
    "rfr_pred_test = rfr_model.predict(X_test)\n",
    "rfr_test_score = evaluate(y_train, rfr_pred_train)"
   ]
  },
  {
   "cell_type": "code",
   "execution_count": null,
   "id": "4a5dcb6d",
   "metadata": {},
   "outputs": [],
   "source": [
    "# lets try some Grid Search\n",
    "\n",
    "param = {'max_depth' : [1,2,3,4,5,10], \n",
    "         'min_samples_leaf' : [2, 3, 4, 5, 10, 15, 20]}\n",
    "\n",
    "rfr_gs = GridSearchCV(RandomForestRegressor(), param)"
   ]
  },
  {
   "cell_type": "code",
   "execution_count": null,
   "id": "65609939",
   "metadata": {
    "scrolled": true
   },
   "outputs": [],
   "source": [
    "rfr_gs.fit(X_train, y_train)"
   ]
  },
  {
   "cell_type": "code",
   "execution_count": null,
   "id": "17bef39f",
   "metadata": {},
   "outputs": [],
   "source": [
    "rfr_gs.best_estimator_"
   ]
  },
  {
   "cell_type": "code",
   "execution_count": null,
   "id": "0e2da002",
   "metadata": {},
   "outputs": [],
   "source": [
    "rfr_gs_pred_train = rfr_gs.predict(X_train)\n",
    "rfr_gs_train_score = evaluate(y_train, rfr_gs_pred_train)"
   ]
  },
  {
   "cell_type": "code",
   "execution_count": null,
   "id": "3a09ae89",
   "metadata": {},
   "outputs": [],
   "source": [
    "rfr_gs_pred_test = rfr_gs.predict(X_test)\n",
    "rfr_gs_test_score = evaluate(y_test, rfr_gs_pred_test)"
   ]
  },
  {
   "cell_type": "markdown",
   "id": "a6e72351",
   "metadata": {},
   "source": [
    "## XGBOOST\n",
    "\n",
    "References:\n",
    "\n",
    "- https://machinelearningmastery.com/xgboost-for-regression/\n",
    "- https://machinelearningmastery.com/gentle-introduction-gradient-boosting-algorithm-machine-learning/"
   ]
  },
  {
   "cell_type": "code",
   "execution_count": null,
   "id": "bff426e8",
   "metadata": {},
   "outputs": [],
   "source": [
    "from xgboost import XGBRegressor\n",
    "import xgboost as xgb"
   ]
  },
  {
   "cell_type": "markdown",
   "id": "85db45b0",
   "metadata": {},
   "source": [
    "Xgboost regressor - The most commonly configured hyperparameters are the following:\n",
    "\n",
    "- n_estimators: The number of trees in the ensemble, often increased until no further improvements are seen.\n",
    "- max_depth: The maximum depth of each tree, often values are between 1 and 10.\n",
    "- eta: The learning rate used to weight each model, often set to small values such as 0.3, 0.1, 0.01, or smaller.\n",
    "- subsample: The number of samples (rows) used in each tree, set to a value between 0 and 1, often 1.0 to use all samples.\n",
    "- colsample_bytree: Number of features (columns) used in each tree, set to a value between 0 and 1, often 1.0 to use all features."
   ]
  },
  {
   "cell_type": "code",
   "execution_count": null,
   "id": "120bf7cc",
   "metadata": {
    "scrolled": true
   },
   "outputs": [],
   "source": [
    "# create an xgboost regression model\n",
    "xgbr_model = XGBRegressor(n_estimators=1000, max_depth=5, eta=0.01)\n",
    "\n",
    "eval_set = [(X_test, y_test)]\n",
    "xgbr_model.fit(X_train, y_train, early_stopping_rounds=10, eval_set=eval_set, verbose=True)"
   ]
  },
  {
   "cell_type": "code",
   "execution_count": null,
   "id": "5961d76f",
   "metadata": {},
   "outputs": [],
   "source": [
    "xgbr_pred_train = xgbr_model.predict(X_train)\n",
    "xgbr_train_score = evaluate(y_train, xgbr_pred_train)"
   ]
  },
  {
   "cell_type": "code",
   "execution_count": null,
   "id": "5dcf5114",
   "metadata": {},
   "outputs": [],
   "source": [
    "xgbr_pred_test = xgbr_model.predict(X_test)\n",
    "xgbr_test_score = evaluate(y_test, xgbr_pred_test)"
   ]
  },
  {
   "cell_type": "code",
   "execution_count": null,
   "id": "22f6c10e",
   "metadata": {},
   "outputs": [],
   "source": [
    "param = {'max_depth' : [1,2,3,4,5,10], \n",
    "         'min_samples_leaf' : [2, 3, 4, 5, 10, 15, 20],\n",
    "         'eta': [0.01, 0.1, 0.3, 0.2]}\n",
    "\n",
    "xgbr_gs = GridSearchCV(XGBRegressor(), param)"
   ]
  },
  {
   "cell_type": "code",
   "execution_count": null,
   "id": "179d67d1",
   "metadata": {},
   "outputs": [],
   "source": [
    "xgbr_gs.fit(X_train, y_train, early_stopping_rounds=10, eval_set=eval_set, verbose=True)"
   ]
  },
  {
   "cell_type": "code",
   "execution_count": null,
   "id": "393476b7",
   "metadata": {},
   "outputs": [],
   "source": [
    "xgbr_gs.best_estimator_"
   ]
  },
  {
   "cell_type": "code",
   "execution_count": null,
   "id": "2c4d61f9",
   "metadata": {},
   "outputs": [],
   "source": [
    "xgbr_gs_pred_train = xgbr_gs.predict(X_train)\n",
    "xgbr_gs_train_score = evaluate(y_train, xgbr_gs_pred_train)"
   ]
  },
  {
   "cell_type": "code",
   "execution_count": null,
   "id": "726f0879",
   "metadata": {},
   "outputs": [],
   "source": [
    "xgbr_gs_pred_test = xgbr_gs.predict(X_test)\n",
    "xgbr_gs_test_score = evaluate(y_test, xgbr_gs_pred_test)"
   ]
  },
  {
   "cell_type": "markdown",
   "id": "f73bcc34",
   "metadata": {},
   "source": [
    "#### [Testing some cross validation]"
   ]
  },
  {
   "cell_type": "code",
   "execution_count": null,
   "id": "610a2ac4",
   "metadata": {},
   "outputs": [],
   "source": [
    "from numpy import absolute\n",
    "from sklearn.model_selection import cross_val_score\n",
    "from sklearn.model_selection import RepeatedKFold\n",
    "model = XGBRegressor(max_depth=4, n_estimators=100)\n",
    "# define model evaluation method\n",
    "cv = RepeatedKFold(n_splits=10, n_repeats=3, random_state=1)\n",
    "# evaluate model\n",
    "scores = cross_val_score(model, X_train, y_train, scoring='neg_root_mean_squared_error', cv=cv, n_jobs=-1)\n",
    "# force scores to be positive\n",
    "scores = absolute(scores)"
   ]
  },
  {
   "cell_type": "code",
   "execution_count": null,
   "id": "7989b171",
   "metadata": {},
   "outputs": [],
   "source": [
    "scores"
   ]
  },
  {
   "cell_type": "code",
   "execution_count": null,
   "id": "4292e332",
   "metadata": {},
   "outputs": [],
   "source": [
    "scores.mean()"
   ]
  },
  {
   "cell_type": "markdown",
   "id": "15936564",
   "metadata": {},
   "source": [
    "## SVM Regressor"
   ]
  },
  {
   "cell_type": "code",
   "execution_count": null,
   "id": "b17c1ab6",
   "metadata": {},
   "outputs": [],
   "source": [
    "from sklearn.svm import SVR"
   ]
  },
  {
   "cell_type": "code",
   "execution_count": null,
   "id": "62a7f873",
   "metadata": {},
   "outputs": [],
   "source": [
    "svr_model = SVR(kernel='rbf', C=1000000, epsilon=0.001)\n",
    "svr_model.fit(X_train, y_train)\n",
    "\n",
    "svr_pred_train = svr_model.predict(X_train)\n",
    "svr_train_score = evaluate(y_train, svr_pred_train)"
   ]
  },
  {
   "cell_type": "code",
   "execution_count": null,
   "id": "57e83094",
   "metadata": {},
   "outputs": [],
   "source": [
    "svr_pred_test = svr_model.predict(X_test)\n",
    "svr_test_score = evaluate(y_test, svr_pred_test)"
   ]
  },
  {
   "cell_type": "markdown",
   "id": "3e2b22b3",
   "metadata": {},
   "source": []
  },
  {
   "cell_type": "code",
   "execution_count": null,
   "id": "eb349ba8",
   "metadata": {},
   "outputs": [],
   "source": []
  },
  {
   "cell_type": "code",
   "execution_count": null,
   "id": "155b8e6a",
   "metadata": {},
   "outputs": [],
   "source": []
  },
  {
   "cell_type": "code",
   "execution_count": null,
   "id": "3caedc69",
   "metadata": {},
   "outputs": [],
   "source": []
  },
  {
   "cell_type": "code",
   "execution_count": null,
   "id": "7e73ac8c",
   "metadata": {},
   "outputs": [],
   "source": []
  }
 ],
 "metadata": {
  "kernelspec": {
   "display_name": "Python 3 (ipykernel)",
   "language": "python",
   "name": "python3"
  },
  "language_info": {
   "codemirror_mode": {
    "name": "ipython",
    "version": 3
   },
   "file_extension": ".py",
   "mimetype": "text/x-python",
   "name": "python",
   "nbconvert_exporter": "python",
   "pygments_lexer": "ipython3",
   "version": "3.9.7"
  }
 },
 "nbformat": 4,
 "nbformat_minor": 5
}
